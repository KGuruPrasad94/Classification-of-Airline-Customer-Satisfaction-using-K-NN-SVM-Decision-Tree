{
 "cells": [
  {
   "cell_type": "markdown",
   "metadata": {},
   "source": [
    "# Group 28 BUAN 6341.001 Machine Learning -  Classification\n",
    "## Guru Prasad Kumar - GXP190002\n",
    "## Sandhya Subramani - SXS190016"
   ]
  },
  {
   "cell_type": "markdown",
   "metadata": {},
   "source": [
    "The goal is to predict airline passenger satisfaction survey, based on a dataset from Kaggle"
   ]
  },
  {
   "cell_type": "markdown",
   "metadata": {},
   "source": [
    "## Columns \n",
    "    \n",
    "1)  Gender: Gender of the passengers (Female, Male)                                                                                         \n",
    "2)  Customer Type: The customer type (Loyal customer, disloyal customer)                                                                                                 \n",
    "3)  Age: The actual age of the passengers                                                                                                              \n",
    "4)  Type of Travel: Purpose of the flight of the passengers (Personal Travel, Business Travel)                                                       \n",
    "5)  Class: Travel class in the plane of the passengers (Business, Eco, Eco Plus)                                                             \n",
    "6)  Flight distance: The flight distance of this journey                                                                                                 \n",
    "7)  Inflight wifi service: Satisfaction level of the inflight wifi service (0:Not Applicable;1-5)                                                        \n",
    "8)  Departure/Arrival time convenient: Satisfaction level of Departure/Arrival time convenient                                                     \n",
    "9)  Ease of Online booking: Satisfaction level of online booking                                                                                    \n",
    "10) Gate location: Satisfaction level of Gate location                                                                                                 \n",
    "11) Food and drink: Satisfaction level of Food and drink                                                                                         \n",
    "12) Online boarding: Satisfaction level of online boarding                                                                                                 \n",
    "13) Seat comfort: Satisfaction level of Seat comfort                                                                                                      \n",
    "14) Inflight entertainment: Satisfaction level of inflight entertainment                                                                                 \n",
    "15) On-board service: Satisfaction level of On-board service                                                                                                                                \n",
    "16) Leg room service: Satisfaction level of Leg room service                                                                                     \n",
    "17) Baggage handling: Satisfaction level of baggage handling                                                                            \n",
    "18) Checkin service: Satisfaction level of Check-in service                                                                                                \n",
    "19) In-flight service: Satisfaction level of in-flight service                                                                                                                         \n",
    "20) Cleanliness: Satisfaction level of Cleanliness                                                                                                      \n",
    "21) Departure Delay in Minutes: Minutes delayed when departure                                                                                    \n",
    "22) Arrival Delay in Minutes: Minutes delayed when Arrival\n",
    "\n",
    "23) Satisfaction: Airline satisfaction level(Satisfaction, neutral or dissatisfaction)"
   ]
  },
  {
   "cell_type": "code",
   "execution_count": 1,
   "metadata": {},
   "outputs": [],
   "source": [
    "#importing all the libraries required for this project\n",
    "import pandas as pd\n",
    "import numpy as np\n",
    "import matplotlib.pyplot as plt\n",
    "%matplotlib inline\n",
    "import seaborn as sns\n",
    "import collections\n",
    "from sklearn.model_selection import GridSearchCV\n",
    "from sklearn.model_selection import cross_val_score\n",
    "from sklearn.linear_model import LogisticRegression \n",
    "from sklearn.svm import SVC, LinearSVC\n",
    "from sklearn.neighbors import KNeighborsClassifier\n",
    "from sklearn.tree import DecisionTreeClassifier \n",
    "from sklearn import metrics \n",
    "from sklearn.preprocessing import StandardScaler\n",
    "from sklearn.model_selection import train_test_split\n",
    "from sklearn.metrics import confusion_matrix\n",
    "from sklearn.metrics import accuracy_score\n",
    "import warnings\n",
    "warnings.filterwarnings('ignore')"
   ]
  },
  {
   "cell_type": "code",
   "execution_count": 2,
   "metadata": {},
   "outputs": [],
   "source": [
    "#reading the csv file\n",
    "df = pd.read_csv(\"Airline_Satisfaction.csv\")"
   ]
  },
  {
   "cell_type": "markdown",
   "metadata": {},
   "source": [
    "# Exploratory Data Analysis"
   ]
  },
  {
   "cell_type": "code",
   "execution_count": 3,
   "metadata": {},
   "outputs": [],
   "source": [
    "#reset the dataset index\n",
    "df = df.set_index('id')"
   ]
  },
  {
   "cell_type": "code",
   "execution_count": 4,
   "metadata": {},
   "outputs": [
    {
     "data": {
      "text/html": [
       "<div>\n",
       "<style scoped>\n",
       "    .dataframe tbody tr th:only-of-type {\n",
       "        vertical-align: middle;\n",
       "    }\n",
       "\n",
       "    .dataframe tbody tr th {\n",
       "        vertical-align: top;\n",
       "    }\n",
       "\n",
       "    .dataframe thead th {\n",
       "        text-align: right;\n",
       "    }\n",
       "</style>\n",
       "<table border=\"1\" class=\"dataframe\">\n",
       "  <thead>\n",
       "    <tr style=\"text-align: right;\">\n",
       "      <th></th>\n",
       "      <th>Gender</th>\n",
       "      <th>Customer Type</th>\n",
       "      <th>Age</th>\n",
       "      <th>Type of Travel</th>\n",
       "      <th>Class</th>\n",
       "      <th>Flight Distance</th>\n",
       "      <th>Inflight wifi service</th>\n",
       "      <th>Departure/Arrival time convenient</th>\n",
       "      <th>Ease of Online booking</th>\n",
       "      <th>Gate location</th>\n",
       "      <th>...</th>\n",
       "      <th>Inflight entertainment</th>\n",
       "      <th>On-board service</th>\n",
       "      <th>Leg room service</th>\n",
       "      <th>Baggage handling</th>\n",
       "      <th>Checkin service</th>\n",
       "      <th>Inflight service</th>\n",
       "      <th>Cleanliness</th>\n",
       "      <th>Departure Delay in Minutes</th>\n",
       "      <th>Arrival Delay in Minutes</th>\n",
       "      <th>satisfaction</th>\n",
       "    </tr>\n",
       "    <tr>\n",
       "      <th>id</th>\n",
       "      <th></th>\n",
       "      <th></th>\n",
       "      <th></th>\n",
       "      <th></th>\n",
       "      <th></th>\n",
       "      <th></th>\n",
       "      <th></th>\n",
       "      <th></th>\n",
       "      <th></th>\n",
       "      <th></th>\n",
       "      <th></th>\n",
       "      <th></th>\n",
       "      <th></th>\n",
       "      <th></th>\n",
       "      <th></th>\n",
       "      <th></th>\n",
       "      <th></th>\n",
       "      <th></th>\n",
       "      <th></th>\n",
       "      <th></th>\n",
       "      <th></th>\n",
       "    </tr>\n",
       "  </thead>\n",
       "  <tbody>\n",
       "    <tr>\n",
       "      <td>57077</td>\n",
       "      <td>Male</td>\n",
       "      <td>Loyal Customer</td>\n",
       "      <td>39</td>\n",
       "      <td>Business travel</td>\n",
       "      <td>Business</td>\n",
       "      <td>1222</td>\n",
       "      <td>4.0</td>\n",
       "      <td>4.0</td>\n",
       "      <td>4.0</td>\n",
       "      <td>4.0</td>\n",
       "      <td>...</td>\n",
       "      <td>5.0</td>\n",
       "      <td>5.0</td>\n",
       "      <td>5.0</td>\n",
       "      <td>5.0</td>\n",
       "      <td>3.0</td>\n",
       "      <td>5.0</td>\n",
       "      <td>3.0</td>\n",
       "      <td>7.0</td>\n",
       "      <td>1.0</td>\n",
       "      <td>satisfied</td>\n",
       "    </tr>\n",
       "    <tr>\n",
       "      <td>58644</td>\n",
       "      <td>Female</td>\n",
       "      <td>Loyal Customer</td>\n",
       "      <td>48</td>\n",
       "      <td>Business travel</td>\n",
       "      <td>Business</td>\n",
       "      <td>867</td>\n",
       "      <td>3.0</td>\n",
       "      <td>3.0</td>\n",
       "      <td>3.0</td>\n",
       "      <td>3.0</td>\n",
       "      <td>...</td>\n",
       "      <td>4.0</td>\n",
       "      <td>4.0</td>\n",
       "      <td>4.0</td>\n",
       "      <td>4.0</td>\n",
       "      <td>NaN</td>\n",
       "      <td>4.0</td>\n",
       "      <td>4.0</td>\n",
       "      <td>41.0</td>\n",
       "      <td>12.0</td>\n",
       "      <td>satisfied</td>\n",
       "    </tr>\n",
       "    <tr>\n",
       "      <td>75316</td>\n",
       "      <td>Male</td>\n",
       "      <td>Loyal Customer</td>\n",
       "      <td>46</td>\n",
       "      <td>Business travel</td>\n",
       "      <td>Business</td>\n",
       "      <td>2486</td>\n",
       "      <td>1.0</td>\n",
       "      <td>NaN</td>\n",
       "      <td>1.0</td>\n",
       "      <td>1.0</td>\n",
       "      <td>...</td>\n",
       "      <td>5.0</td>\n",
       "      <td>5.0</td>\n",
       "      <td>5.0</td>\n",
       "      <td>5.0</td>\n",
       "      <td>3.0</td>\n",
       "      <td>5.0</td>\n",
       "      <td>5.0</td>\n",
       "      <td>0.0</td>\n",
       "      <td>7.0</td>\n",
       "      <td>satisfied</td>\n",
       "    </tr>\n",
       "    <tr>\n",
       "      <td>81534</td>\n",
       "      <td>Female</td>\n",
       "      <td>disloyal Customer</td>\n",
       "      <td>23</td>\n",
       "      <td>Business travel</td>\n",
       "      <td>Eco</td>\n",
       "      <td>1124</td>\n",
       "      <td>2.0</td>\n",
       "      <td>2.0</td>\n",
       "      <td>2.0</td>\n",
       "      <td>2.0</td>\n",
       "      <td>...</td>\n",
       "      <td>3.0</td>\n",
       "      <td>1.0</td>\n",
       "      <td>1.0</td>\n",
       "      <td>3.0</td>\n",
       "      <td>5.0</td>\n",
       "      <td>1.0</td>\n",
       "      <td>3.0</td>\n",
       "      <td>0.0</td>\n",
       "      <td>0.0</td>\n",
       "      <td>satisfied</td>\n",
       "    </tr>\n",
       "    <tr>\n",
       "      <td>56098</td>\n",
       "      <td>Male</td>\n",
       "      <td>disloyal Customer</td>\n",
       "      <td>29</td>\n",
       "      <td>Business travel</td>\n",
       "      <td>Business</td>\n",
       "      <td>946</td>\n",
       "      <td>5.0</td>\n",
       "      <td>5.0</td>\n",
       "      <td>5.0</td>\n",
       "      <td>4.0</td>\n",
       "      <td>...</td>\n",
       "      <td>NaN</td>\n",
       "      <td>2.0</td>\n",
       "      <td>4.0</td>\n",
       "      <td>4.0</td>\n",
       "      <td>1.0</td>\n",
       "      <td>5.0</td>\n",
       "      <td>1.0</td>\n",
       "      <td>NaN</td>\n",
       "      <td>150.0</td>\n",
       "      <td>satisfied</td>\n",
       "    </tr>\n",
       "  </tbody>\n",
       "</table>\n",
       "<p>5 rows × 23 columns</p>\n",
       "</div>"
      ],
      "text/plain": [
       "       Gender      Customer Type  Age   Type of Travel     Class  \\\n",
       "id                                                                 \n",
       "57077    Male     Loyal Customer   39  Business travel  Business   \n",
       "58644  Female     Loyal Customer   48  Business travel  Business   \n",
       "75316    Male     Loyal Customer   46  Business travel  Business   \n",
       "81534  Female  disloyal Customer   23  Business travel       Eco   \n",
       "56098    Male  disloyal Customer   29  Business travel  Business   \n",
       "\n",
       "       Flight Distance  Inflight wifi service  \\\n",
       "id                                              \n",
       "57077             1222                    4.0   \n",
       "58644              867                    3.0   \n",
       "75316             2486                    1.0   \n",
       "81534             1124                    2.0   \n",
       "56098              946                    5.0   \n",
       "\n",
       "       Departure/Arrival time convenient  Ease of Online booking  \\\n",
       "id                                                                 \n",
       "57077                                4.0                     4.0   \n",
       "58644                                3.0                     3.0   \n",
       "75316                                NaN                     1.0   \n",
       "81534                                2.0                     2.0   \n",
       "56098                                5.0                     5.0   \n",
       "\n",
       "       Gate location  ...  Inflight entertainment  On-board service  \\\n",
       "id                    ...                                             \n",
       "57077            4.0  ...                     5.0               5.0   \n",
       "58644            3.0  ...                     4.0               4.0   \n",
       "75316            1.0  ...                     5.0               5.0   \n",
       "81534            2.0  ...                     3.0               1.0   \n",
       "56098            4.0  ...                     NaN               2.0   \n",
       "\n",
       "       Leg room service  Baggage handling  Checkin service  Inflight service  \\\n",
       "id                                                                             \n",
       "57077               5.0               5.0              3.0               5.0   \n",
       "58644               4.0               4.0              NaN               4.0   \n",
       "75316               5.0               5.0              3.0               5.0   \n",
       "81534               1.0               3.0              5.0               1.0   \n",
       "56098               4.0               4.0              1.0               5.0   \n",
       "\n",
       "       Cleanliness  Departure Delay in Minutes  Arrival Delay in Minutes  \\\n",
       "id                                                                         \n",
       "57077          3.0                         7.0                       1.0   \n",
       "58644          4.0                        41.0                      12.0   \n",
       "75316          5.0                         0.0                       7.0   \n",
       "81534          3.0                         0.0                       0.0   \n",
       "56098          1.0                         NaN                     150.0   \n",
       "\n",
       "       satisfaction  \n",
       "id                   \n",
       "57077     satisfied  \n",
       "58644     satisfied  \n",
       "75316     satisfied  \n",
       "81534     satisfied  \n",
       "56098     satisfied  \n",
       "\n",
       "[5 rows x 23 columns]"
      ]
     },
     "execution_count": 4,
     "metadata": {},
     "output_type": "execute_result"
    }
   ],
   "source": [
    "#checking the head of the dataset\n",
    "df.head()"
   ]
  },
  {
   "cell_type": "markdown",
   "metadata": {},
   "source": [
    "More than two categorical columns and more than 15 columns that satisfies the requirments too"
   ]
  },
  {
   "cell_type": "code",
   "execution_count": 5,
   "metadata": {},
   "outputs": [
    {
     "data": {
      "text/plain": [
       "(5641, 23)"
      ]
     },
     "execution_count": 5,
     "metadata": {},
     "output_type": "execute_result"
    }
   ],
   "source": [
    "#checking the shape of the dataset\n",
    "df.shape"
   ]
  },
  {
   "cell_type": "markdown",
   "metadata": {},
   "source": [
    "More than 1000 instances that satisfies the requirements"
   ]
  },
  {
   "cell_type": "code",
   "execution_count": 6,
   "metadata": {},
   "outputs": [
    {
     "data": {
      "text/html": [
       "<div>\n",
       "<style scoped>\n",
       "    .dataframe tbody tr th:only-of-type {\n",
       "        vertical-align: middle;\n",
       "    }\n",
       "\n",
       "    .dataframe tbody tr th {\n",
       "        vertical-align: top;\n",
       "    }\n",
       "\n",
       "    .dataframe thead th {\n",
       "        text-align: right;\n",
       "    }\n",
       "</style>\n",
       "<table border=\"1\" class=\"dataframe\">\n",
       "  <thead>\n",
       "    <tr style=\"text-align: right;\">\n",
       "      <th></th>\n",
       "      <th>count</th>\n",
       "      <th>mean</th>\n",
       "      <th>std</th>\n",
       "      <th>min</th>\n",
       "      <th>25%</th>\n",
       "      <th>50%</th>\n",
       "      <th>75%</th>\n",
       "      <th>max</th>\n",
       "    </tr>\n",
       "  </thead>\n",
       "  <tbody>\n",
       "    <tr>\n",
       "      <td>Age</td>\n",
       "      <td>5641.0</td>\n",
       "      <td>39.399929</td>\n",
       "      <td>15.004809</td>\n",
       "      <td>7.0</td>\n",
       "      <td>27.0</td>\n",
       "      <td>40.0</td>\n",
       "      <td>51.0</td>\n",
       "      <td>85.0</td>\n",
       "    </tr>\n",
       "    <tr>\n",
       "      <td>Flight Distance</td>\n",
       "      <td>5641.0</td>\n",
       "      <td>1230.399575</td>\n",
       "      <td>1022.729796</td>\n",
       "      <td>31.0</td>\n",
       "      <td>409.0</td>\n",
       "      <td>867.0</td>\n",
       "      <td>1849.0</td>\n",
       "      <td>4963.0</td>\n",
       "    </tr>\n",
       "    <tr>\n",
       "      <td>Inflight wifi service</td>\n",
       "      <td>5190.0</td>\n",
       "      <td>2.773603</td>\n",
       "      <td>1.365897</td>\n",
       "      <td>0.0</td>\n",
       "      <td>2.0</td>\n",
       "      <td>3.0</td>\n",
       "      <td>4.0</td>\n",
       "      <td>5.0</td>\n",
       "    </tr>\n",
       "    <tr>\n",
       "      <td>Departure/Arrival time convenient</td>\n",
       "      <td>5190.0</td>\n",
       "      <td>3.031599</td>\n",
       "      <td>1.539786</td>\n",
       "      <td>0.0</td>\n",
       "      <td>2.0</td>\n",
       "      <td>3.0</td>\n",
       "      <td>4.0</td>\n",
       "      <td>5.0</td>\n",
       "    </tr>\n",
       "    <tr>\n",
       "      <td>Ease of Online booking</td>\n",
       "      <td>5190.0</td>\n",
       "      <td>2.783237</td>\n",
       "      <td>1.437538</td>\n",
       "      <td>0.0</td>\n",
       "      <td>2.0</td>\n",
       "      <td>3.0</td>\n",
       "      <td>4.0</td>\n",
       "      <td>5.0</td>\n",
       "    </tr>\n",
       "    <tr>\n",
       "      <td>Gate location</td>\n",
       "      <td>5190.0</td>\n",
       "      <td>3.006358</td>\n",
       "      <td>1.278880</td>\n",
       "      <td>1.0</td>\n",
       "      <td>2.0</td>\n",
       "      <td>3.0</td>\n",
       "      <td>4.0</td>\n",
       "      <td>5.0</td>\n",
       "    </tr>\n",
       "    <tr>\n",
       "      <td>Food and drink</td>\n",
       "      <td>5190.0</td>\n",
       "      <td>3.256840</td>\n",
       "      <td>1.312336</td>\n",
       "      <td>0.0</td>\n",
       "      <td>2.0</td>\n",
       "      <td>3.0</td>\n",
       "      <td>4.0</td>\n",
       "      <td>5.0</td>\n",
       "    </tr>\n",
       "    <tr>\n",
       "      <td>Online boarding</td>\n",
       "      <td>5190.0</td>\n",
       "      <td>3.346050</td>\n",
       "      <td>1.366427</td>\n",
       "      <td>0.0</td>\n",
       "      <td>2.0</td>\n",
       "      <td>4.0</td>\n",
       "      <td>4.0</td>\n",
       "      <td>5.0</td>\n",
       "    </tr>\n",
       "    <tr>\n",
       "      <td>Seat comfort</td>\n",
       "      <td>5190.0</td>\n",
       "      <td>3.514451</td>\n",
       "      <td>1.303775</td>\n",
       "      <td>1.0</td>\n",
       "      <td>3.0</td>\n",
       "      <td>4.0</td>\n",
       "      <td>5.0</td>\n",
       "      <td>5.0</td>\n",
       "    </tr>\n",
       "    <tr>\n",
       "      <td>Inflight entertainment</td>\n",
       "      <td>5190.0</td>\n",
       "      <td>3.445665</td>\n",
       "      <td>1.309657</td>\n",
       "      <td>0.0</td>\n",
       "      <td>2.0</td>\n",
       "      <td>4.0</td>\n",
       "      <td>5.0</td>\n",
       "      <td>5.0</td>\n",
       "    </tr>\n",
       "    <tr>\n",
       "      <td>On-board service</td>\n",
       "      <td>5190.0</td>\n",
       "      <td>3.441040</td>\n",
       "      <td>1.276517</td>\n",
       "      <td>1.0</td>\n",
       "      <td>3.0</td>\n",
       "      <td>4.0</td>\n",
       "      <td>4.0</td>\n",
       "      <td>5.0</td>\n",
       "    </tr>\n",
       "    <tr>\n",
       "      <td>Leg room service</td>\n",
       "      <td>5190.0</td>\n",
       "      <td>3.383622</td>\n",
       "      <td>1.322618</td>\n",
       "      <td>0.0</td>\n",
       "      <td>2.0</td>\n",
       "      <td>4.0</td>\n",
       "      <td>4.0</td>\n",
       "      <td>5.0</td>\n",
       "    </tr>\n",
       "    <tr>\n",
       "      <td>Baggage handling</td>\n",
       "      <td>5190.0</td>\n",
       "      <td>3.670713</td>\n",
       "      <td>1.175015</td>\n",
       "      <td>1.0</td>\n",
       "      <td>3.0</td>\n",
       "      <td>4.0</td>\n",
       "      <td>5.0</td>\n",
       "      <td>5.0</td>\n",
       "    </tr>\n",
       "    <tr>\n",
       "      <td>Checkin service</td>\n",
       "      <td>5190.0</td>\n",
       "      <td>3.340077</td>\n",
       "      <td>1.246986</td>\n",
       "      <td>1.0</td>\n",
       "      <td>3.0</td>\n",
       "      <td>3.0</td>\n",
       "      <td>4.0</td>\n",
       "      <td>5.0</td>\n",
       "    </tr>\n",
       "    <tr>\n",
       "      <td>Inflight service</td>\n",
       "      <td>5190.0</td>\n",
       "      <td>3.687091</td>\n",
       "      <td>1.171532</td>\n",
       "      <td>1.0</td>\n",
       "      <td>3.0</td>\n",
       "      <td>4.0</td>\n",
       "      <td>5.0</td>\n",
       "      <td>5.0</td>\n",
       "    </tr>\n",
       "    <tr>\n",
       "      <td>Cleanliness</td>\n",
       "      <td>5190.0</td>\n",
       "      <td>3.356262</td>\n",
       "      <td>1.295907</td>\n",
       "      <td>0.0</td>\n",
       "      <td>2.0</td>\n",
       "      <td>4.0</td>\n",
       "      <td>4.0</td>\n",
       "      <td>5.0</td>\n",
       "    </tr>\n",
       "    <tr>\n",
       "      <td>Departure Delay in Minutes</td>\n",
       "      <td>5190.0</td>\n",
       "      <td>14.696146</td>\n",
       "      <td>38.364713</td>\n",
       "      <td>0.0</td>\n",
       "      <td>0.0</td>\n",
       "      <td>0.0</td>\n",
       "      <td>12.0</td>\n",
       "      <td>756.0</td>\n",
       "    </tr>\n",
       "    <tr>\n",
       "      <td>Arrival Delay in Minutes</td>\n",
       "      <td>5614.0</td>\n",
       "      <td>14.937300</td>\n",
       "      <td>37.632332</td>\n",
       "      <td>0.0</td>\n",
       "      <td>0.0</td>\n",
       "      <td>0.0</td>\n",
       "      <td>13.0</td>\n",
       "      <td>748.0</td>\n",
       "    </tr>\n",
       "  </tbody>\n",
       "</table>\n",
       "</div>"
      ],
      "text/plain": [
       "                                    count         mean          std   min  \\\n",
       "Age                                5641.0    39.399929    15.004809   7.0   \n",
       "Flight Distance                    5641.0  1230.399575  1022.729796  31.0   \n",
       "Inflight wifi service              5190.0     2.773603     1.365897   0.0   \n",
       "Departure/Arrival time convenient  5190.0     3.031599     1.539786   0.0   \n",
       "Ease of Online booking             5190.0     2.783237     1.437538   0.0   \n",
       "Gate location                      5190.0     3.006358     1.278880   1.0   \n",
       "Food and drink                     5190.0     3.256840     1.312336   0.0   \n",
       "Online boarding                    5190.0     3.346050     1.366427   0.0   \n",
       "Seat comfort                       5190.0     3.514451     1.303775   1.0   \n",
       "Inflight entertainment             5190.0     3.445665     1.309657   0.0   \n",
       "On-board service                   5190.0     3.441040     1.276517   1.0   \n",
       "Leg room service                   5190.0     3.383622     1.322618   0.0   \n",
       "Baggage handling                   5190.0     3.670713     1.175015   1.0   \n",
       "Checkin service                    5190.0     3.340077     1.246986   1.0   \n",
       "Inflight service                   5190.0     3.687091     1.171532   1.0   \n",
       "Cleanliness                        5190.0     3.356262     1.295907   0.0   \n",
       "Departure Delay in Minutes         5190.0    14.696146    38.364713   0.0   \n",
       "Arrival Delay in Minutes           5614.0    14.937300    37.632332   0.0   \n",
       "\n",
       "                                     25%    50%     75%     max  \n",
       "Age                                 27.0   40.0    51.0    85.0  \n",
       "Flight Distance                    409.0  867.0  1849.0  4963.0  \n",
       "Inflight wifi service                2.0    3.0     4.0     5.0  \n",
       "Departure/Arrival time convenient    2.0    3.0     4.0     5.0  \n",
       "Ease of Online booking               2.0    3.0     4.0     5.0  \n",
       "Gate location                        2.0    3.0     4.0     5.0  \n",
       "Food and drink                       2.0    3.0     4.0     5.0  \n",
       "Online boarding                      2.0    4.0     4.0     5.0  \n",
       "Seat comfort                         3.0    4.0     5.0     5.0  \n",
       "Inflight entertainment               2.0    4.0     5.0     5.0  \n",
       "On-board service                     3.0    4.0     4.0     5.0  \n",
       "Leg room service                     2.0    4.0     4.0     5.0  \n",
       "Baggage handling                     3.0    4.0     5.0     5.0  \n",
       "Checkin service                      3.0    3.0     4.0     5.0  \n",
       "Inflight service                     3.0    4.0     5.0     5.0  \n",
       "Cleanliness                          2.0    4.0     4.0     5.0  \n",
       "Departure Delay in Minutes           0.0    0.0    12.0   756.0  \n",
       "Arrival Delay in Minutes             0.0    0.0    13.0   748.0  "
      ]
     },
     "execution_count": 6,
     "metadata": {},
     "output_type": "execute_result"
    }
   ],
   "source": [
    "#checking the mean and qurtiles using the describe function\n",
    "df.describe().T"
   ]
  },
  {
   "cell_type": "markdown",
   "metadata": {},
   "source": [
    "Some of the important observations:                                                                                                     \n",
    " \n",
    "1) Age - The maximum age is 85 and the minimum age is 7\n",
    "\n",
    "\n",
    "2) Flight Distance - The maximum distance travelled is 4963 and minimum distance travelled is 31 miles                         \n",
    "\n",
    "\n",
    "3) Departure Delay - The maximum delay is 590 minutes and the minimum delay is 0 mins \n",
    "\n",
    "\n",
    "4) Arrival Delay - The maximum delay is 748 minutes and the minimum delay is 0 mins"
   ]
  },
  {
   "cell_type": "code",
   "execution_count": 8,
   "metadata": {},
   "outputs": [
    {
     "data": {
      "text/plain": [
       "Online boarding                      451\n",
       "On-board service                     451\n",
       "Inflight wifi service                451\n",
       "Departure/Arrival time convenient    451\n",
       "Ease of Online booking               451\n",
       "Gate location                        451\n",
       "Food and drink                       451\n",
       "Seat comfort                         451\n",
       "Inflight entertainment               451\n",
       "Leg room service                     451\n",
       "Baggage handling                     451\n",
       "Checkin service                      451\n",
       "Inflight service                     451\n",
       "Cleanliness                          451\n",
       "Departure Delay in Minutes           451\n",
       "dtype: int64"
      ]
     },
     "execution_count": 8,
     "metadata": {},
     "output_type": "execute_result"
    }
   ],
   "source": [
    "#checking for null values\n",
    "df.isnull().sum().sort_values(ascending = False).head(15)"
   ]
  },
  {
   "cell_type": "code",
   "execution_count": 9,
   "metadata": {},
   "outputs": [
    {
     "data": {
      "text/html": [
       "<div>\n",
       "<style scoped>\n",
       "    .dataframe tbody tr th:only-of-type {\n",
       "        vertical-align: middle;\n",
       "    }\n",
       "\n",
       "    .dataframe tbody tr th {\n",
       "        vertical-align: top;\n",
       "    }\n",
       "\n",
       "    .dataframe thead th {\n",
       "        text-align: right;\n",
       "    }\n",
       "</style>\n",
       "<table border=\"1\" class=\"dataframe\">\n",
       "  <thead>\n",
       "    <tr style=\"text-align: right;\">\n",
       "      <th></th>\n",
       "      <th>Total_count</th>\n",
       "      <th>Percent</th>\n",
       "    </tr>\n",
       "  </thead>\n",
       "  <tbody>\n",
       "    <tr>\n",
       "      <td>Online boarding</td>\n",
       "      <td>451</td>\n",
       "      <td>0.07995</td>\n",
       "    </tr>\n",
       "    <tr>\n",
       "      <td>On-board service</td>\n",
       "      <td>451</td>\n",
       "      <td>0.07995</td>\n",
       "    </tr>\n",
       "    <tr>\n",
       "      <td>Inflight wifi service</td>\n",
       "      <td>451</td>\n",
       "      <td>0.07995</td>\n",
       "    </tr>\n",
       "    <tr>\n",
       "      <td>Departure/Arrival time convenient</td>\n",
       "      <td>451</td>\n",
       "      <td>0.07995</td>\n",
       "    </tr>\n",
       "    <tr>\n",
       "      <td>Ease of Online booking</td>\n",
       "      <td>451</td>\n",
       "      <td>0.07995</td>\n",
       "    </tr>\n",
       "    <tr>\n",
       "      <td>Gate location</td>\n",
       "      <td>451</td>\n",
       "      <td>0.07995</td>\n",
       "    </tr>\n",
       "    <tr>\n",
       "      <td>Food and drink</td>\n",
       "      <td>451</td>\n",
       "      <td>0.07995</td>\n",
       "    </tr>\n",
       "    <tr>\n",
       "      <td>Seat comfort</td>\n",
       "      <td>451</td>\n",
       "      <td>0.07995</td>\n",
       "    </tr>\n",
       "    <tr>\n",
       "      <td>Inflight entertainment</td>\n",
       "      <td>451</td>\n",
       "      <td>0.07995</td>\n",
       "    </tr>\n",
       "    <tr>\n",
       "      <td>Leg room service</td>\n",
       "      <td>451</td>\n",
       "      <td>0.07995</td>\n",
       "    </tr>\n",
       "    <tr>\n",
       "      <td>Baggage handling</td>\n",
       "      <td>451</td>\n",
       "      <td>0.07995</td>\n",
       "    </tr>\n",
       "    <tr>\n",
       "      <td>Checkin service</td>\n",
       "      <td>451</td>\n",
       "      <td>0.07995</td>\n",
       "    </tr>\n",
       "    <tr>\n",
       "      <td>Inflight service</td>\n",
       "      <td>451</td>\n",
       "      <td>0.07995</td>\n",
       "    </tr>\n",
       "    <tr>\n",
       "      <td>Cleanliness</td>\n",
       "      <td>451</td>\n",
       "      <td>0.07995</td>\n",
       "    </tr>\n",
       "    <tr>\n",
       "      <td>Departure Delay in Minutes</td>\n",
       "      <td>451</td>\n",
       "      <td>0.07995</td>\n",
       "    </tr>\n",
       "  </tbody>\n",
       "</table>\n",
       "</div>"
      ],
      "text/plain": [
       "                                   Total_count  Percent\n",
       "Online boarding                            451  0.07995\n",
       "On-board service                           451  0.07995\n",
       "Inflight wifi service                      451  0.07995\n",
       "Departure/Arrival time convenient          451  0.07995\n",
       "Ease of Online booking                     451  0.07995\n",
       "Gate location                              451  0.07995\n",
       "Food and drink                             451  0.07995\n",
       "Seat comfort                               451  0.07995\n",
       "Inflight entertainment                     451  0.07995\n",
       "Leg room service                           451  0.07995\n",
       "Baggage handling                           451  0.07995\n",
       "Checkin service                            451  0.07995\n",
       "Inflight service                           451  0.07995\n",
       "Cleanliness                                451  0.07995\n",
       "Departure Delay in Minutes                 451  0.07995"
      ]
     },
     "execution_count": 9,
     "metadata": {},
     "output_type": "execute_result"
    }
   ],
   "source": [
    "#checking the percentage of missing values in the dataset\n",
    "missing_values= df.isnull().sum().sort_values(ascending=False)\n",
    "total_percent = (df.isnull().sum()/df.isnull().count()).sort_values(ascending=False)\n",
    "total_missing_values_percent = pd.concat([missing_values,total_percent],axis=1,keys=['Total_count','Percent'])\n",
    "total_missing_values_percent.head(15)"
   ]
  },
  {
   "cell_type": "markdown",
   "metadata": {},
   "source": [
    "As per the project requirements we can see that there are 451 missing values in each column, which is more than 5% of the entire data, thereby satisfying the pre-requisites."
   ]
  },
  {
   "cell_type": "code",
   "execution_count": 10,
   "metadata": {},
   "outputs": [
    {
     "data": {
      "text/plain": [
       "Gender                                object\n",
       "Customer Type                         object\n",
       "Age                                    int64\n",
       "Type of Travel                        object\n",
       "Class                                 object\n",
       "Flight Distance                        int64\n",
       "Inflight wifi service                float64\n",
       "Departure/Arrival time convenient    float64\n",
       "Ease of Online booking               float64\n",
       "Gate location                        float64\n",
       "Food and drink                       float64\n",
       "Online boarding                      float64\n",
       "Seat comfort                         float64\n",
       "Inflight entertainment               float64\n",
       "On-board service                     float64\n",
       "Leg room service                     float64\n",
       "Baggage handling                     float64\n",
       "Checkin service                      float64\n",
       "Inflight service                     float64\n",
       "Cleanliness                          float64\n",
       "Departure Delay in Minutes           float64\n",
       "Arrival Delay in Minutes             float64\n",
       "satisfaction                          object\n",
       "dtype: object"
      ]
     },
     "execution_count": 10,
     "metadata": {},
     "output_type": "execute_result"
    }
   ],
   "source": [
    "#checking the datatypes of the columns present in the dataset\n",
    "df.dtypes"
   ]
  },
  {
   "cell_type": "code",
   "execution_count": 12,
   "metadata": {},
   "outputs": [
    {
     "data": {
      "text/plain": [
       "array([[<matplotlib.axes._subplots.AxesSubplot object at 0x0000018C78E63F08>,\n",
       "        <matplotlib.axes._subplots.AxesSubplot object at 0x0000018C78E83908>,\n",
       "        <matplotlib.axes._subplots.AxesSubplot object at 0x0000018C78EB6C88>,\n",
       "        <matplotlib.axes._subplots.AxesSubplot object at 0x0000018C78EEE308>],\n",
       "       [<matplotlib.axes._subplots.AxesSubplot object at 0x0000018C78F23948>,\n",
       "        <matplotlib.axes._subplots.AxesSubplot object at 0x0000018C78F51F88>,\n",
       "        <matplotlib.axes._subplots.AxesSubplot object at 0x0000018C78F8CA88>,\n",
       "        <matplotlib.axes._subplots.AxesSubplot object at 0x0000018C78FC2808>],\n",
       "       [<matplotlib.axes._subplots.AxesSubplot object at 0x0000018C78FC9688>,\n",
       "        <matplotlib.axes._subplots.AxesSubplot object at 0x0000018C79001608>,\n",
       "        <matplotlib.axes._subplots.AxesSubplot object at 0x0000018C7906C188>,\n",
       "        <matplotlib.axes._subplots.AxesSubplot object at 0x0000018C790A3288>],\n",
       "       [<matplotlib.axes._subplots.AxesSubplot object at 0x0000018C790DB288>,\n",
       "        <matplotlib.axes._subplots.AxesSubplot object at 0x0000018C791143C8>,\n",
       "        <matplotlib.axes._subplots.AxesSubplot object at 0x0000018C7914C4C8>,\n",
       "        <matplotlib.axes._subplots.AxesSubplot object at 0x0000018C791855C8>],\n",
       "       [<matplotlib.axes._subplots.AxesSubplot object at 0x0000018C791BB708>,\n",
       "        <matplotlib.axes._subplots.AxesSubplot object at 0x0000018C791F5788>,\n",
       "        <matplotlib.axes._subplots.AxesSubplot object at 0x0000018C7922E888>,\n",
       "        <matplotlib.axes._subplots.AxesSubplot object at 0x0000018C79267A88>]],\n",
       "      dtype=object)"
      ]
     },
     "execution_count": 12,
     "metadata": {},
     "output_type": "execute_result"
    },
    {
     "data": {
      "image/png": "[encoded data removed]",
      "text/plain": [
       "<Figure size 1440x1440 with 20 Axes>"
      ]
     },
     "metadata": {
      "needs_background": "light"
     },
     "output_type": "display_data"
    }
   ],
   "source": [
    "#Further exploration using histogram to check the distributions - EDA\n",
    "df.hist(bins = 20, figsize= (20,20))"
   ]
  },
  {
   "cell_type": "code",
   "execution_count": 13,
   "metadata": {},
   "outputs": [
    {
     "data": {
      "text/plain": [
       "neutral or dissatisfied    2827\n",
       "satisfied                  2814\n",
       "Name: satisfaction, dtype: int64"
      ]
     },
     "execution_count": 13,
     "metadata": {},
     "output_type": "execute_result"
    }
   ],
   "source": [
    "#Target Variable distribution\n",
    "df['satisfaction'].value_counts()"
   ]
  },
  {
   "cell_type": "code",
   "execution_count": 14,
   "metadata": {},
   "outputs": [
    {
     "data": {
      "text/plain": [
       "Female    2894\n",
       "Male      2747\n",
       "Name: Gender, dtype: int64"
      ]
     },
     "execution_count": 14,
     "metadata": {},
     "output_type": "execute_result"
    }
   ],
   "source": [
    "#value_counts in Gender column\n",
    "df['Gender'].value_counts()"
   ]
  },
  {
   "cell_type": "code",
   "execution_count": 15,
   "metadata": {},
   "outputs": [
    {
     "data": {
      "text/plain": [
       "Loyal Customer       4643\n",
       "disloyal Customer     998\n",
       "Name: Customer Type, dtype: int64"
      ]
     },
     "execution_count": 15,
     "metadata": {},
     "output_type": "execute_result"
    }
   ],
   "source": [
    "#value_counts in Customer Type column\n",
    "df['Customer Type'].value_counts()"
   ]
  },
  {
   "cell_type": "code",
   "execution_count": 16,
   "metadata": {},
   "outputs": [
    {
     "data": {
      "text/plain": [
       "Business    2894\n",
       "Eco         2376\n",
       "Eco Plus     371\n",
       "Name: Class, dtype: int64"
      ]
     },
     "execution_count": 16,
     "metadata": {},
     "output_type": "execute_result"
    }
   ],
   "source": [
    "#value counts in Class column\n",
    "df['Class'].value_counts()"
   ]
  },
  {
   "cell_type": "code",
   "execution_count": 17,
   "metadata": {},
   "outputs": [
    {
     "data": {
      "text/plain": [
       "Business travel    4024\n",
       "Personal Travel    1617\n",
       "Name: Type of Travel, dtype: int64"
      ]
     },
     "execution_count": 17,
     "metadata": {},
     "output_type": "execute_result"
    }
   ],
   "source": [
    "#Type of travel value counts\n",
    "df['Type of Travel'].value_counts()"
   ]
  },
  {
   "cell_type": "markdown",
   "metadata": {},
   "source": [
    "There are more than 2 categorical variables that satisfies the required criteria"
   ]
  },
  {
   "cell_type": "markdown",
   "metadata": {},
   "source": [
    "Imputation and filling out the \"Nan\" values"
   ]
  },
  {
   "cell_type": "code",
   "execution_count": 18,
   "metadata": {},
   "outputs": [],
   "source": [
    "#imputing the null values of approx. normally distributed columns with mean\n",
    "\n",
    "df['Ease of Online booking'] = df['Ease of Online booking'].fillna((df['Ease of Online booking'].mean()))\n",
    "df['Inflight service'] = df['Inflight service'].fillna((df['Inflight service'].mean()))\n",
    "df['Checkin service'] = df['Checkin service'].fillna((df['Checkin service'].mean()))\n",
    "df['Gate location'] = df['Gate location'].fillna((df['Gate location'].mean()))"
   ]
  },
  {
   "cell_type": "code",
   "execution_count": 19,
   "metadata": {},
   "outputs": [],
   "source": [
    "#imputing the null values of skewed columns with median\n",
    "\n",
    "df['Flight Distance'] = df['Flight Distance'].fillna((df['Flight Distance'].median()))\n",
    "df['Seat comfort'] = df['Seat comfort'].fillna((df['Seat comfort'].median()))\n",
    "df['Inflight wifi service'] = df['Inflight wifi service'].fillna((df['Inflight wifi service'].median()))\n",
    "df['Inflight entertainment'] = df['Inflight entertainment'].fillna((df['Inflight entertainment'].median()))\n",
    "df['Food and drink'] = df['Food and drink'].fillna((df['Food and drink'].median()))\n",
    "df['On-board service'] = df['On-board service'].fillna((df['On-board service'].median()))\n",
    "df['Leg room service'] = df['Leg room service'].fillna((df['Leg room service'].median()))\n",
    "df['Baggage handling'] = df['Baggage handling'].fillna((df['Baggage handling'].median()))\n",
    "df['Cleanliness'] = df['Cleanliness'].fillna((df['Cleanliness'].median()))\n",
    "df['Online boarding'] = df['Online boarding'].fillna((df['Online boarding'].median()))\n",
    "df['Departure Delay in Minutes'] = df['Departure Delay in Minutes'].fillna((df['Departure Delay in Minutes'].median()))\n",
    "df['Arrival Delay in Minutes'] = df['Arrival Delay in Minutes'].fillna((df['Arrival Delay in Minutes'].median()))\n",
    "df['Departure/Arrival time convenient'] = df['Departure/Arrival time convenient'].fillna((df['Departure/Arrival time convenient'].median()))"
   ]
  },
  {
   "cell_type": "code",
   "execution_count": 20,
   "metadata": {},
   "outputs": [],
   "source": [
    "#renaming the column names\n",
    "df = df.rename(columns={\"Departure Delay in Minutes\": \"DepartureDelay\", \n",
    "                        \"Arrival Delay in Minutes\": \"ArrivalDelay\", \n",
    "                        \"Inflight service\": \"FlightService\",\n",
    "                        \"Inflight entertainment\": \"FlightEnt\",\n",
    "                        \"Inflight wifi service\": \"FlightWifi\",\n",
    "                        \"Ease of Online booking\" : \"OnlineBookEase\" ,\n",
    "                        \"Departure/Arrival time convenient\" : \"TimeCovenient\" ,\n",
    "                        \"Customer Type\": \"CustType\", \n",
    "                        \"Type of Travel\": \"TravelType\",\n",
    "                        \"Flight Distance\": \"FlightDist\", \n",
    "                        \"Seat comfort\": \"SeatComfort\",\n",
    "                        \"Food and drink\": \"FoodDrink\",\n",
    "                        \"Gate location\": \"GateLoc\",\n",
    "                        \"On-board service\": \"OnboardService\",\n",
    "                        \"Leg room service\": \"LegRoom\",\n",
    "                        \"Baggage handling\": \"BaggageHandling\",\n",
    "                        \"Online boarding\": \"OnlineBoarding\",\n",
    "                        \"Checkin service\": \"CheckinService\",\n",
    "                             })"
   ]
  },
  {
   "cell_type": "code",
   "execution_count": 21,
   "metadata": {},
   "outputs": [
    {
     "data": {
      "text/plain": [
       "Gender             0\n",
       "CustType           0\n",
       "Age                0\n",
       "TravelType         0\n",
       "Class              0\n",
       "FlightDist         0\n",
       "FlightWifi         0\n",
       "TimeCovenient      0\n",
       "OnlineBookEase     0\n",
       "GateLoc            0\n",
       "FoodDrink          0\n",
       "OnlineBoarding     0\n",
       "SeatComfort        0\n",
       "FlightEnt          0\n",
       "OnboardService     0\n",
       "LegRoom            0\n",
       "BaggageHandling    0\n",
       "CheckinService     0\n",
       "FlightService      0\n",
       "Cleanliness        0\n",
       "DepartureDelay     0\n",
       "ArrivalDelay       0\n",
       "satisfaction       0\n",
       "dtype: int64"
      ]
     },
     "execution_count": 21,
     "metadata": {},
     "output_type": "execute_result"
    }
   ],
   "source": [
    "#checking if there are any null values present\n",
    "df.isnull().sum()"
   ]
  },
  {
   "cell_type": "code",
   "execution_count": 22,
   "metadata": {},
   "outputs": [
    {
     "name": "stdout",
     "output_type": "stream",
     "text": [
      "satisfaction ['satisfied' 'neutral or dissatisfied']\n",
      "Gender ['Male' 'Female']\n",
      "CustType ['Loyal Customer' 'disloyal Customer']\n",
      "TravelType ['Business travel' 'Personal Travel']\n",
      "Class ['Business' 'Eco' 'Eco Plus']\n"
     ]
    }
   ],
   "source": [
    "#checking unique names in categorical columns\n",
    "print('satisfaction',df.satisfaction.unique())\n",
    "print('Gender',df.Gender.unique())\n",
    "print('CustType',df.CustType.unique())\n",
    "print('TravelType',df.TravelType.unique())\n",
    "print('Class',df.Class.unique())"
   ]
  },
  {
   "cell_type": "code",
   "execution_count": 23,
   "metadata": {},
   "outputs": [
    {
     "data": {
      "image/png": "[encoded data removed]",
      "text/plain": [
       "<Figure size 1296x720 with 2 Axes>"
      ]
     },
     "metadata": {
      "needs_background": "light"
     },
     "output_type": "display_data"
    }
   ],
   "source": [
    "#checking the corelation map after imputation\n",
    "#seat comfort - food and drink, arrival delay -departure delay have a good co relation among them\n",
    "fig = plt.figure(figsize=(18,10))\n",
    "sns.heatmap(df.dropna().corr(),annot=True,cmap=\"coolwarm\")\n",
    "plt.tight_layout()"
   ]
  },
  {
   "cell_type": "code",
   "execution_count": 24,
   "metadata": {},
   "outputs": [
    {
     "data": {
      "image/png": "[encoded data removed]",
      "text/plain": [
       "<Figure size 720x432 with 1 Axes>"
      ]
     },
     "metadata": {
      "needs_background": "light"
     },
     "output_type": "display_data"
    }
   ],
   "source": [
    "#plotting a seaborn map to see Class distribution\n",
    "sns.set_context(\"paper\", font_scale=1.3)\n",
    "fig,ax = plt.subplots(1,1,figsize=(10,6))\n",
    "sns.countplot(data=df,x='Class')\n",
    "ax.set_title('Travel Type Count')\n",
    "plt.tight_layout()\n",
    "plt.show()"
   ]
  },
  {
   "cell_type": "code",
   "execution_count": 25,
   "metadata": {},
   "outputs": [],
   "source": [
    "#assigning 0's and 1's to the categorical variables\n",
    "df['satisfaction'] = df['satisfaction'].map( {'satisfied': 1, 'neutral or dissatisfied': 0} ).astype(int)\n",
    "df['Gender'] = df['Gender'].map( {'Female': 1, 'Male': 0} ).astype(int)\n",
    "df['CustType'] = df['CustType'].map( {'Loyal Customer': 1, 'disloyal Customer': 0} ).astype(int)\n",
    "df['TravelType'] = df['TravelType'].map( {'Personal Travel': 1, 'Business travel': 0} ).astype(int)"
   ]
  },
  {
   "cell_type": "code",
   "execution_count": 26,
   "metadata": {},
   "outputs": [],
   "source": [
    "#one hot encoding of class variable\n",
    "one_hot_class = pd.get_dummies(df.Class)"
   ]
  },
  {
   "cell_type": "code",
   "execution_count": 27,
   "metadata": {},
   "outputs": [],
   "source": [
    "#once encoding is done we are dropping the class and appending one_hot_class to data1 df\n",
    "df.drop(['Class'],axis=1,inplace =True)\n",
    "df = pd.concat([df, one_hot_class], axis=1)"
   ]
  },
  {
   "cell_type": "code",
   "execution_count": 28,
   "metadata": {},
   "outputs": [
    {
     "data": {
      "text/html": [
       "<div>\n",
       "<style scoped>\n",
       "    .dataframe tbody tr th:only-of-type {\n",
       "        vertical-align: middle;\n",
       "    }\n",
       "\n",
       "    .dataframe tbody tr th {\n",
       "        vertical-align: top;\n",
       "    }\n",
       "\n",
       "    .dataframe thead th {\n",
       "        text-align: right;\n",
       "    }\n",
       "</style>\n",
       "<table border=\"1\" class=\"dataframe\">\n",
       "  <thead>\n",
       "    <tr style=\"text-align: right;\">\n",
       "      <th></th>\n",
       "      <th>Gender</th>\n",
       "      <th>CustType</th>\n",
       "      <th>Age</th>\n",
       "      <th>TravelType</th>\n",
       "      <th>FlightDist</th>\n",
       "      <th>FlightWifi</th>\n",
       "      <th>TimeCovenient</th>\n",
       "      <th>OnlineBookEase</th>\n",
       "      <th>GateLoc</th>\n",
       "      <th>FoodDrink</th>\n",
       "      <th>...</th>\n",
       "      <th>BaggageHandling</th>\n",
       "      <th>CheckinService</th>\n",
       "      <th>FlightService</th>\n",
       "      <th>Cleanliness</th>\n",
       "      <th>DepartureDelay</th>\n",
       "      <th>ArrivalDelay</th>\n",
       "      <th>satisfaction</th>\n",
       "      <th>Business</th>\n",
       "      <th>Eco</th>\n",
       "      <th>Eco Plus</th>\n",
       "    </tr>\n",
       "    <tr>\n",
       "      <th>id</th>\n",
       "      <th></th>\n",
       "      <th></th>\n",
       "      <th></th>\n",
       "      <th></th>\n",
       "      <th></th>\n",
       "      <th></th>\n",
       "      <th></th>\n",
       "      <th></th>\n",
       "      <th></th>\n",
       "      <th></th>\n",
       "      <th></th>\n",
       "      <th></th>\n",
       "      <th></th>\n",
       "      <th></th>\n",
       "      <th></th>\n",
       "      <th></th>\n",
       "      <th></th>\n",
       "      <th></th>\n",
       "      <th></th>\n",
       "      <th></th>\n",
       "      <th></th>\n",
       "    </tr>\n",
       "  </thead>\n",
       "  <tbody>\n",
       "    <tr>\n",
       "      <td>57077</td>\n",
       "      <td>0</td>\n",
       "      <td>1</td>\n",
       "      <td>39</td>\n",
       "      <td>0</td>\n",
       "      <td>1222</td>\n",
       "      <td>4.0</td>\n",
       "      <td>4.0</td>\n",
       "      <td>4.0</td>\n",
       "      <td>4.0</td>\n",
       "      <td>2.0</td>\n",
       "      <td>...</td>\n",
       "      <td>5.0</td>\n",
       "      <td>3.000000</td>\n",
       "      <td>5.0</td>\n",
       "      <td>3.0</td>\n",
       "      <td>7.0</td>\n",
       "      <td>1.0</td>\n",
       "      <td>1</td>\n",
       "      <td>1</td>\n",
       "      <td>0</td>\n",
       "      <td>0</td>\n",
       "    </tr>\n",
       "    <tr>\n",
       "      <td>58644</td>\n",
       "      <td>1</td>\n",
       "      <td>1</td>\n",
       "      <td>48</td>\n",
       "      <td>0</td>\n",
       "      <td>867</td>\n",
       "      <td>3.0</td>\n",
       "      <td>3.0</td>\n",
       "      <td>3.0</td>\n",
       "      <td>3.0</td>\n",
       "      <td>5.0</td>\n",
       "      <td>...</td>\n",
       "      <td>4.0</td>\n",
       "      <td>3.340077</td>\n",
       "      <td>4.0</td>\n",
       "      <td>4.0</td>\n",
       "      <td>41.0</td>\n",
       "      <td>12.0</td>\n",
       "      <td>1</td>\n",
       "      <td>1</td>\n",
       "      <td>0</td>\n",
       "      <td>0</td>\n",
       "    </tr>\n",
       "    <tr>\n",
       "      <td>75316</td>\n",
       "      <td>0</td>\n",
       "      <td>1</td>\n",
       "      <td>46</td>\n",
       "      <td>0</td>\n",
       "      <td>2486</td>\n",
       "      <td>1.0</td>\n",
       "      <td>3.0</td>\n",
       "      <td>1.0</td>\n",
       "      <td>1.0</td>\n",
       "      <td>5.0</td>\n",
       "      <td>...</td>\n",
       "      <td>5.0</td>\n",
       "      <td>3.000000</td>\n",
       "      <td>5.0</td>\n",
       "      <td>5.0</td>\n",
       "      <td>0.0</td>\n",
       "      <td>7.0</td>\n",
       "      <td>1</td>\n",
       "      <td>1</td>\n",
       "      <td>0</td>\n",
       "      <td>0</td>\n",
       "    </tr>\n",
       "    <tr>\n",
       "      <td>81534</td>\n",
       "      <td>1</td>\n",
       "      <td>0</td>\n",
       "      <td>23</td>\n",
       "      <td>0</td>\n",
       "      <td>1124</td>\n",
       "      <td>2.0</td>\n",
       "      <td>2.0</td>\n",
       "      <td>2.0</td>\n",
       "      <td>2.0</td>\n",
       "      <td>3.0</td>\n",
       "      <td>...</td>\n",
       "      <td>3.0</td>\n",
       "      <td>5.000000</td>\n",
       "      <td>1.0</td>\n",
       "      <td>3.0</td>\n",
       "      <td>0.0</td>\n",
       "      <td>0.0</td>\n",
       "      <td>1</td>\n",
       "      <td>0</td>\n",
       "      <td>1</td>\n",
       "      <td>0</td>\n",
       "    </tr>\n",
       "    <tr>\n",
       "      <td>56098</td>\n",
       "      <td>0</td>\n",
       "      <td>0</td>\n",
       "      <td>29</td>\n",
       "      <td>0</td>\n",
       "      <td>946</td>\n",
       "      <td>5.0</td>\n",
       "      <td>5.0</td>\n",
       "      <td>5.0</td>\n",
       "      <td>4.0</td>\n",
       "      <td>5.0</td>\n",
       "      <td>...</td>\n",
       "      <td>4.0</td>\n",
       "      <td>1.000000</td>\n",
       "      <td>5.0</td>\n",
       "      <td>1.0</td>\n",
       "      <td>0.0</td>\n",
       "      <td>150.0</td>\n",
       "      <td>1</td>\n",
       "      <td>1</td>\n",
       "      <td>0</td>\n",
       "      <td>0</td>\n",
       "    </tr>\n",
       "  </tbody>\n",
       "</table>\n",
       "<p>5 rows × 25 columns</p>\n",
       "</div>"
      ],
      "text/plain": [
       "       Gender  CustType  Age  TravelType  FlightDist  FlightWifi  \\\n",
       "id                                                                 \n",
       "57077       0         1   39           0        1222         4.0   \n",
       "58644       1         1   48           0         867         3.0   \n",
       "75316       0         1   46           0        2486         1.0   \n",
       "81534       1         0   23           0        1124         2.0   \n",
       "56098       0         0   29           0         946         5.0   \n",
       "\n",
       "       TimeCovenient  OnlineBookEase  GateLoc  FoodDrink  ...  \\\n",
       "id                                                        ...   \n",
       "57077            4.0             4.0      4.0        2.0  ...   \n",
       "58644            3.0             3.0      3.0        5.0  ...   \n",
       "75316            3.0             1.0      1.0        5.0  ...   \n",
       "81534            2.0             2.0      2.0        3.0  ...   \n",
       "56098            5.0             5.0      4.0        5.0  ...   \n",
       "\n",
       "       BaggageHandling  CheckinService  FlightService  Cleanliness  \\\n",
       "id                                                                   \n",
       "57077              5.0        3.000000            5.0          3.0   \n",
       "58644              4.0        3.340077            4.0          4.0   \n",
       "75316              5.0        3.000000            5.0          5.0   \n",
       "81534              3.0        5.000000            1.0          3.0   \n",
       "56098              4.0        1.000000            5.0          1.0   \n",
       "\n",
       "       DepartureDelay  ArrivalDelay  satisfaction  Business  Eco  Eco Plus  \n",
       "id                                                                          \n",
       "57077             7.0           1.0             1         1    0         0  \n",
       "58644            41.0          12.0             1         1    0         0  \n",
       "75316             0.0           7.0             1         1    0         0  \n",
       "81534             0.0           0.0             1         0    1         0  \n",
       "56098             0.0         150.0             1         1    0         0  \n",
       "\n",
       "[5 rows x 25 columns]"
      ]
     },
     "execution_count": 28,
     "metadata": {},
     "output_type": "execute_result"
    }
   ],
   "source": [
    "#checking the head once\n",
    "df.head()"
   ]
  },
  {
   "cell_type": "code",
   "execution_count": 29,
   "metadata": {},
   "outputs": [
    {
     "data": {
      "text/plain": [
       "Index(['Gender', 'CustType', 'Age', 'TravelType', 'FlightDist', 'FlightWifi',\n",
       "       'TimeCovenient', 'OnlineBookEase', 'GateLoc', 'FoodDrink',\n",
       "       'OnlineBoarding', 'SeatComfort', 'FlightEnt', 'OnboardService',\n",
       "       'LegRoom', 'BaggageHandling', 'CheckinService', 'FlightService',\n",
       "       'Cleanliness', 'DepartureDelay', 'ArrivalDelay', 'satisfaction',\n",
       "       'Business', 'Eco', 'Eco Plus'],\n",
       "      dtype='object')"
      ]
     },
     "execution_count": 29,
     "metadata": {},
     "output_type": "execute_result"
    }
   ],
   "source": [
    "#checking the column names again\n",
    "df.columns"
   ]
  },
  {
   "cell_type": "code",
   "execution_count": 30,
   "metadata": {},
   "outputs": [],
   "source": [
    "#X and y split\n",
    "y = df['satisfaction'].values\n",
    "X = df.drop(['satisfaction'], axis = 1).values"
   ]
  },
  {
   "cell_type": "code",
   "execution_count": 31,
   "metadata": {},
   "outputs": [],
   "source": [
    "#test and train split\n",
    "X_train, X_test, y_train, y_test = train_test_split(X, y, test_size=0.2, random_state=0)"
   ]
  },
  {
   "cell_type": "code",
   "execution_count": 32,
   "metadata": {
    "scrolled": true
   },
   "outputs": [
    {
     "data": {
      "text/plain": [
       "((4512, 24), (1129, 24))"
      ]
     },
     "execution_count": 32,
     "metadata": {},
     "output_type": "execute_result"
    }
   ],
   "source": [
    "#checking X values\n",
    "X_train.shape, X_test.shape"
   ]
  },
  {
   "cell_type": "code",
   "execution_count": 33,
   "metadata": {},
   "outputs": [],
   "source": [
    "# Scaling the dataset\n",
    "#through histogram we see that data is not much normally distributed for most of the columns \n",
    "#Therefore we use Standard Scaler to normalize and scale\n",
    "scaler = StandardScaler()\n",
    "X_train = scaler.fit_transform(X_train)\n",
    "X_test = scaler.transform(X_test)"
   ]
  },
  {
   "cell_type": "markdown",
   "metadata": {},
   "source": [
    "# KNN Classification"
   ]
  },
  {
   "cell_type": "code",
   "execution_count": 34,
   "metadata": {},
   "outputs": [
    {
     "data": {
      "text/plain": [
       "GridSearchCV(cv=8, error_score=nan,\n",
       "             estimator=KNeighborsClassifier(algorithm='auto', leaf_size=30,\n",
       "                                            metric='minkowski',\n",
       "                                            metric_params=None, n_jobs=None,\n",
       "                                            n_neighbors=5, p=2,\n",
       "                                            weights='uniform'),\n",
       "             iid='deprecated', n_jobs=None,\n",
       "             param_grid=[{'n_neighbors': array([ 1,  2,  3,  4,  5,  6,  7,  8,  9, 10])}],\n",
       "             pre_dispatch='2*n_jobs', refit=True, return_train_score=False,\n",
       "             scoring=None, verbose=0)"
      ]
     },
     "execution_count": 34,
     "metadata": {},
     "output_type": "execute_result"
    }
   ],
   "source": [
    "# Create a new knn model\n",
    "knn = KNeighborsClassifier()\n",
    "\n",
    "# n_neighbors to test\n",
    "k = np.arange(10)+1\n",
    "param_knn= [{'n_neighbors':k}]\n",
    "\n",
    "#using gridsearch to test all values for n-neighbors\n",
    "knn_clf = GridSearchCV(knn, param_knn, cv=8)\n",
    "\n",
    "#fitting the model\n",
    "knn_clf.fit(X_train,y_train)"
   ]
  },
  {
   "cell_type": "code",
   "execution_count": 35,
   "metadata": {},
   "outputs": [
    {
     "data": {
      "image/png": "[encoded data removed]",
      "text/plain": [
       "<Figure size 720x720 with 1 Axes>"
      ]
     },
     "metadata": {
      "needs_background": "light"
     },
     "output_type": "display_data"
    }
   ],
   "source": [
    "plt.figure(figsize=(10,10))\n",
    "training_accuracy = []\n",
    "test_accuracy = []\n",
    "# try n_neighbors from 1 to 10\n",
    "neighbors_settings = range(1, 13)\n",
    "for n_neighbors in neighbors_settings:\n",
    "    # build the model\n",
    "    classifier2 = KNeighborsClassifier(n_neighbors=n_neighbors)\n",
    "    classifier2.fit(X_train, y_train)\n",
    "    # record training set accuracy\n",
    "    training_accuracy.append(classifier2.score(X_train, y_train))\n",
    "    # record test set accuracy\n",
    "    test_accuracy.append(classifier2.score(X_test, y_test))\n",
    "#plotting train and test scores for n_neighbors from 1 to 10\n",
    "plt.plot(neighbors_settings, training_accuracy, label=\"training accuracy\")\n",
    "plt.plot(neighbors_settings, test_accuracy, label=\"test accuracy\")\n",
    "plt.ylabel(\"Accuracy\")\n",
    "plt.xlabel(\"n_neighbors\")\n",
    "plt.title(\"KNN Train vs Test Accuracy\")\n",
    "plt.legend()\n",
    "plt.savefig('knn_compare_model')"
   ]
  },
  {
   "cell_type": "code",
   "execution_count": 36,
   "metadata": {},
   "outputs": [
    {
     "data": {
      "text/plain": [
       "{'n_neighbors': 7}"
      ]
     },
     "execution_count": 36,
     "metadata": {},
     "output_type": "execute_result"
    }
   ],
   "source": [
    "#Best n_neighbhor value\n",
    "knn_clf.best_params_"
   ]
  },
  {
   "cell_type": "code",
   "execution_count": 37,
   "metadata": {},
   "outputs": [
    {
     "data": {
      "text/plain": [
       "0.880540780141844"
      ]
     },
     "execution_count": 37,
     "metadata": {},
     "output_type": "execute_result"
    }
   ],
   "source": [
    "#Validation score\n",
    "knn_clf.best_score_"
   ]
  },
  {
   "cell_type": "code",
   "execution_count": 58,
   "metadata": {},
   "outputs": [
    {
     "name": "stdout",
     "output_type": "stream",
     "text": [
      "Accuracy of KNN classifier on training set: 0.91\n",
      "Accuracy of KNN classifier on test set: 0.90\n"
     ]
    }
   ],
   "source": [
    "#checking accuracy of train and test set\n",
    "KNN_best = KNeighborsClassifier(n_neighbors=7).fit(X_train, y_train)\n",
    "\n",
    "print('Accuracy of KNN classifier on training set: {:.2f}'\n",
    "     .format(KNN_best.score(X_train, y_train)))\n",
    "print('Accuracy of KNN classifier on test set: {:.2f}'\n",
    "     .format(KNN_best.score(X_test, y_test)))"
   ]
  },
  {
   "cell_type": "code",
   "execution_count": 60,
   "metadata": {},
   "outputs": [
    {
     "name": "stdout",
     "output_type": "stream",
     "text": [
      "Cross validation scores: [0.88372093 0.87264673 0.88580931 0.88470067 0.86141907]\n",
      "Average cross-validation score: 0.8777\n"
     ]
    }
   ],
   "source": [
    "#Cross Validation\n",
    "cvscore = cross_val_score(knn,X_train,y_train, cv=5)\n",
    "print(\"Cross validation scores: {}\".format(cvscore))\n",
    "print(\"Average cross-validation score: {:.4f}\".format(cvscore.mean()))"
   ]
  },
  {
   "cell_type": "code",
   "execution_count": 61,
   "metadata": {},
   "outputs": [
    {
     "data": {
      "text/plain": [
       "<matplotlib.axes._subplots.AxesSubplot at 0x18c7bb057c8>"
      ]
     },
     "execution_count": 61,
     "metadata": {},
     "output_type": "execute_result"
    },
    {
     "data": {
      "image/png": "[encoded data removed]",
      "text/plain": [
       "<Figure size 576x360 with 2 Axes>"
      ]
     },
     "metadata": {
      "needs_background": "light"
     },
     "output_type": "display_data"
    }
   ],
   "source": [
    "#Confusion Matrix\n",
    "\n",
    "KNN_predicted = KNN_best.predict(X_test)\n",
    "cm = confusion_matrix(y_test, KNN_predicted)\n",
    "\n",
    "conf_matrix=pd.DataFrame(data=cm,columns=['Predicted:0','Predicted:1'],index=['Actual:0','Actual:1'])\n",
    "plt.figure(figsize = (8,5))\n",
    "sns.heatmap(conf_matrix, annot=True,fmt='d',cmap=\"YlGnBu\")"
   ]
  },
  {
   "cell_type": "code",
   "execution_count": 62,
   "metadata": {},
   "outputs": [
    {
     "data": {
      "text/plain": [
       "89.63684676705049"
      ]
     },
     "execution_count": 62,
     "metadata": {},
     "output_type": "execute_result"
    }
   ],
   "source": [
    "# Checking the accuracy\n",
    "accuracy_score(y_test,KNN_predicted)*100"
   ]
  },
  {
   "cell_type": "markdown",
   "metadata": {},
   "source": [
    "# Logistic Regression"
   ]
  },
  {
   "cell_type": "code",
   "execution_count": 63,
   "metadata": {},
   "outputs": [],
   "source": [
    "#using Logistic Regression\n",
    "logit = LogisticRegression()\n",
    "param_grid = {'C': [0.001, 0.01, 0.1, 1, 10, 100, 1000],'penalty':['l1', 'l2'] }"
   ]
  },
  {
   "cell_type": "code",
   "execution_count": 64,
   "metadata": {},
   "outputs": [
    {
     "data": {
      "text/plain": [
       "GridSearchCV(cv=3, error_score=nan,\n",
       "             estimator=LogisticRegression(C=1.0, class_weight=None, dual=False,\n",
       "                                          fit_intercept=True,\n",
       "                                          intercept_scaling=1, l1_ratio=None,\n",
       "                                          max_iter=100, multi_class='auto',\n",
       "                                          n_jobs=None, penalty='l2',\n",
       "                                          random_state=None, solver='lbfgs',\n",
       "                                          tol=0.0001, verbose=0,\n",
       "                                          warm_start=False),\n",
       "             iid='deprecated', n_jobs=None,\n",
       "             param_grid={'C': [0.001, 0.01, 0.1, 1, 10, 100, 1000],\n",
       "                         'penalty': ['l1', 'l2']},\n",
       "             pre_dispatch='2*n_jobs', refit=True, return_train_score=False,\n",
       "             scoring=None, verbose=0)"
      ]
     },
     "execution_count": 64,
     "metadata": {},
     "output_type": "execute_result"
    }
   ],
   "source": [
    "# Using Grid search to find the best parameters and fitting the model\n",
    "logit_clf = GridSearchCV(logit, param_grid,cv=3)\n",
    "logit_clf.fit(X_train,y_train)"
   ]
  },
  {
   "cell_type": "code",
   "execution_count": 65,
   "metadata": {},
   "outputs": [
    {
     "data": {
      "text/plain": [
       "{'C': 1, 'penalty': 'l2'}"
      ]
     },
     "execution_count": 65,
     "metadata": {},
     "output_type": "execute_result"
    }
   ],
   "source": [
    "#calculating best parameters\n",
    "logit_clf.best_params_"
   ]
  },
  {
   "cell_type": "code",
   "execution_count": 66,
   "metadata": {},
   "outputs": [
    {
     "name": "stdout",
     "output_type": "stream",
     "text": [
      "Accuracy of logistic regression on training set: 0.8639\n",
      "Accuracy of logistic regression on test set: 0.8627\n"
     ]
    }
   ],
   "source": [
    "#using the parmeter to find out the train and test accuracy\n",
    "LR = LogisticRegression(penalty = 'l2', C= 1)\n",
    "LR.fit(X_train,y_train)\n",
    "\n",
    "print('Accuracy of logistic regression on training set: {:.4f}'\n",
    "     .format(LR.score(X_train, y_train)))\n",
    "print('Accuracy of logistic regression on test set: {:.4f}'\n",
    "     .format(logit_clf.score(X_test, y_test)))"
   ]
  },
  {
   "cell_type": "code",
   "execution_count": 67,
   "metadata": {},
   "outputs": [
    {
     "name": "stdout",
     "output_type": "stream",
     "text": [
      "Cross validation scores: [0.87043189 0.83610188 0.87804878 0.85920177 0.845898  ]\n",
      "Average cross-validation score: 0.8579\n"
     ]
    }
   ],
   "source": [
    "#Cross Validation\n",
    "cvscore = cross_val_score(LR,X_train,y_train, cv=5)\n",
    "print(\"Cross validation scores: {}\".format(cvscore))\n",
    "print(\"Average cross-validation score: {:.4f}\".format(cvscore.mean()))"
   ]
  },
  {
   "cell_type": "code",
   "execution_count": 68,
   "metadata": {},
   "outputs": [
    {
     "data": {
      "text/plain": [
       "<matplotlib.axes._subplots.AxesSubplot at 0x18c7bb05908>"
      ]
     },
     "execution_count": 68,
     "metadata": {},
     "output_type": "execute_result"
    },
    {
     "data": {
      "image/png": "[encoded data removed]",
      "text/plain": [
       "<Figure size 576x360 with 2 Axes>"
      ]
     },
     "metadata": {
      "needs_background": "light"
     },
     "output_type": "display_data"
    }
   ],
   "source": [
    "#Confusion Matrix\n",
    "LR_pred = LR.predict(X_test)\n",
    "cm = confusion_matrix(y_test, LR_pred)\n",
    "\n",
    "conf_matrix=pd.DataFrame(data=cm,columns=['Predicted:0','Predicted:1'],index=['Actual:0','Actual:1'])\n",
    "plt.figure(figsize = (8,5))\n",
    "sns.heatmap(conf_matrix, annot=True,fmt='d',cmap=\"YlGnBu\")"
   ]
  },
  {
   "cell_type": "code",
   "execution_count": 69,
   "metadata": {},
   "outputs": [
    {
     "data": {
      "text/plain": [
       "86.27103631532329"
      ]
     },
     "execution_count": 69,
     "metadata": {},
     "output_type": "execute_result"
    }
   ],
   "source": [
    "#Accuracy\n",
    "accuracy_score(y_test,LR_pred)*100"
   ]
  },
  {
   "cell_type": "markdown",
   "metadata": {},
   "source": [
    "# Decision Tree"
   ]
  },
  {
   "cell_type": "code",
   "execution_count": 70,
   "metadata": {},
   "outputs": [
    {
     "data": {
      "text/plain": [
       "GridSearchCV(cv=8, error_score=nan,\n",
       "             estimator=DecisionTreeClassifier(ccp_alpha=0.0, class_weight=None,\n",
       "                                              criterion='gini', max_depth=None,\n",
       "                                              max_features=None,\n",
       "                                              max_leaf_nodes=None,\n",
       "                                              min_impurity_decrease=0.0,\n",
       "                                              min_impurity_split=None,\n",
       "                                              min_samples_leaf=1,\n",
       "                                              min_samples_split=2,\n",
       "                                              min_weight_fraction_leaf=0.0,\n",
       "                                              presort='deprecated',\n",
       "                                              random_state=None,\n",
       "                                              splitter='best'),\n",
       "             iid='deprecated', n_jobs=None,\n",
       "             param_grid={'max_depth': [2, 3, 5, 6, 7, 8, 9, 11, 13, 15]},\n",
       "             pre_dispatch='2*n_jobs', refit=True, return_train_score=True,\n",
       "             scoring=None, verbose=0)"
      ]
     },
     "execution_count": 70,
     "metadata": {},
     "output_type": "execute_result"
    }
   ],
   "source": [
    "#using decision tree\n",
    "dt_clf = DecisionTreeClassifier()\n",
    "param_grid = {'max_depth': [2,3,5,6,7,8,9,11,13,15]}\n",
    "# Using Grid search to find the best parameters and fitting the model\n",
    "grid_search = GridSearchCV(dt_clf, param_grid, cv = 8, return_train_score=True)\n",
    "grid_search.fit(X_train, y_train)"
   ]
  },
  {
   "cell_type": "code",
   "execution_count": 71,
   "metadata": {},
   "outputs": [
    {
     "data": {
      "text/plain": [
       "{'max_depth': 7}"
      ]
     },
     "execution_count": 71,
     "metadata": {},
     "output_type": "execute_result"
    }
   ],
   "source": [
    "#fiding out the best parameter- depth here\n",
    "grid_search.best_params_"
   ]
  },
  {
   "cell_type": "code",
   "execution_count": 72,
   "metadata": {},
   "outputs": [
    {
     "data": {
      "text/plain": [
       "0.9027039007092199"
      ]
     },
     "execution_count": 72,
     "metadata": {},
     "output_type": "execute_result"
    }
   ],
   "source": [
    "#best score\n",
    "grid_search.best_score_"
   ]
  },
  {
   "cell_type": "code",
   "execution_count": 73,
   "metadata": {},
   "outputs": [
    {
     "name": "stdout",
     "output_type": "stream",
     "text": [
      "Train score: 0.93\n",
      "Test score: 0.90\n"
     ]
    }
   ],
   "source": [
    "#training set and test set best accuracy\n",
    "dt_clf_best = DecisionTreeClassifier(max_depth = 7)\n",
    "dt_clf_best.fit(X_train,y_train)\n",
    "\n",
    "print('Train score: {0:0.2f}'.format(dt_clf_best.score(X_train, y_train)))\n",
    "print('Test score: {0:0.2f}'.format(dt_clf_best.score(X_test, y_test)))"
   ]
  },
  {
   "cell_type": "code",
   "execution_count": 74,
   "metadata": {},
   "outputs": [
    {
     "name": "stdout",
     "output_type": "stream",
     "text": [
      "Cross validation scores: [0.90365449 0.91472868 0.89689579 0.88470067 0.90576497]\n",
      "Average cross-validation score: 0.90\n"
     ]
    }
   ],
   "source": [
    "#Cross Validation\n",
    "scores = cross_val_score(dt_clf_best,X_train,y_train, cv=5)\n",
    "print(\"Cross validation scores: {}\".format(scores))\n",
    "print(\"Average cross-validation score: {:.2f}\".format(scores.mean()))"
   ]
  },
  {
   "cell_type": "code",
   "execution_count": 75,
   "metadata": {},
   "outputs": [
    {
     "data": {
      "text/plain": [
       "<matplotlib.axes._subplots.AxesSubplot at 0x18c7bc45308>"
      ]
     },
     "execution_count": 75,
     "metadata": {},
     "output_type": "execute_result"
    },
    {
     "data": {
      "image/png": "[encoded data removed]",
      "text/plain": [
       "<Figure size 576x360 with 2 Axes>"
      ]
     },
     "metadata": {
      "needs_background": "light"
     },
     "output_type": "display_data"
    }
   ],
   "source": [
    "#Confusion Matrix\n",
    "dt_predicted = dt_clf_best.predict(X_test)\n",
    "cm = confusion_matrix(y_test, dt_predicted)\n",
    "\n",
    "conf_matrix=pd.DataFrame(data=cm,columns=['Predicted:0','Predicted:1'],index=['Actual:0','Actual:1'])\n",
    "plt.figure(figsize = (8,5))\n",
    "sns.heatmap(conf_matrix, annot=True,fmt='d',cmap=\"YlGnBu\")"
   ]
  },
  {
   "cell_type": "code",
   "execution_count": 78,
   "metadata": {},
   "outputs": [
    {
     "data": {
      "text/plain": [
       "90.34543844109831"
      ]
     },
     "execution_count": 78,
     "metadata": {},
     "output_type": "execute_result"
    }
   ],
   "source": [
    "#Accuracy\n",
    "\n",
    "accuracy_score(y_test,dt_predicted)*100"
   ]
  },
  {
   "cell_type": "markdown",
   "metadata": {},
   "source": [
    "# Linear SVM"
   ]
  },
  {
   "cell_type": "code",
   "execution_count": 79,
   "metadata": {},
   "outputs": [],
   "source": [
    "#using SVM\n",
    "LinSVC = SVC(kernel='linear',max_iter=100000)\n",
    "LinSVM_params = {'C':[0.001, 0.01, 0.1, 1, 10, 100, 1000]}"
   ]
  },
  {
   "cell_type": "code",
   "execution_count": 80,
   "metadata": {},
   "outputs": [
    {
     "data": {
      "text/plain": [
       "GridSearchCV(cv=5, error_score=nan,\n",
       "             estimator=SVC(C=1.0, break_ties=False, cache_size=200,\n",
       "                           class_weight=None, coef0=0.0,\n",
       "                           decision_function_shape='ovr', degree=3,\n",
       "                           gamma='scale', kernel='linear', max_iter=100000,\n",
       "                           probability=False, random_state=None, shrinking=True,\n",
       "                           tol=0.001, verbose=False),\n",
       "             iid='deprecated', n_jobs=None,\n",
       "             param_grid={'C': [0.001, 0.01, 0.1, 1, 10, 100, 1000]},\n",
       "             pre_dispatch='2*n_jobs', refit=True, return_train_score=False,\n",
       "             scoring=None, verbose=0)"
      ]
     },
     "execution_count": 80,
     "metadata": {},
     "output_type": "execute_result"
    }
   ],
   "source": [
    "# Using Grid search to find the best parameters and fitting the model\n",
    "LinearSVC_clf = GridSearchCV(LinSVC, LinSVM_params,cv=5)\n",
    "LinearSVC_clf.fit(X_train,y_train)"
   ]
  },
  {
   "cell_type": "code",
   "execution_count": 81,
   "metadata": {},
   "outputs": [
    {
     "data": {
      "text/plain": [
       "{'C': 10}"
      ]
     },
     "execution_count": 81,
     "metadata": {},
     "output_type": "execute_result"
    }
   ],
   "source": [
    "#finding the best parameter\n",
    "LinearSVC_clf.best_params_"
   ]
  },
  {
   "cell_type": "code",
   "execution_count": 82,
   "metadata": {},
   "outputs": [
    {
     "name": "stdout",
     "output_type": "stream",
     "text": [
      "Accuracy of linear SVM on training set: 0.8661\n",
      "Accuracy of linear SVM on test set: 0.8671\n"
     ]
    }
   ],
   "source": [
    "#applying the best paramerter and finding the test and train accuracy\n",
    "\n",
    "\n",
    "clf = LinearSVC (C=10)\n",
    "clf.fit(X_train,y_train)\n",
    "clf.score(X_train,y_train)\n",
    "print('Accuracy of linear SVM on training set: {:.4f}'\n",
    "     .format(clf.score(X_train, y_train)))\n",
    "print('Accuracy of linear SVM on test set: {:.4f}'\n",
    "     .format(LinearSVC_clf.score(X_test, y_test)))"
   ]
  },
  {
   "cell_type": "code",
   "execution_count": 100,
   "metadata": {},
   "outputs": [
    {
     "name": "stdout",
     "output_type": "stream",
     "text": [
      "Cross validation scores: [0.87043189 0.85271318 0.88470067 0.87028825 0.845898  ]\n",
      "Average cross-validation score: 0.8648\n"
     ]
    }
   ],
   "source": [
    "#Cross Validation\n",
    "cvscore = cross_val_score(SVC(kernel='linear',C=10),X_train,y_train, cv=5)\n",
    "print(\"Cross validation scores: {}\".format(cvscore))\n",
    "print(\"Average cross-validation score: {:.4f}\".format(cvscore.mean()))"
   ]
  },
  {
   "cell_type": "code",
   "execution_count": 101,
   "metadata": {},
   "outputs": [
    {
     "data": {
      "text/plain": [
       "<matplotlib.axes._subplots.AxesSubplot at 0x18c7ff0b7c8>"
      ]
     },
     "execution_count": 101,
     "metadata": {},
     "output_type": "execute_result"
    },
    {
     "data": {
      "image/png": "[encoded data removed]",
      "text/plain": [
       "<Figure size 576x360 with 2 Axes>"
      ]
     },
     "metadata": {
      "needs_background": "light"
     },
     "output_type": "display_data"
    }
   ],
   "source": [
    "#Making the Confusion Matrix\n",
    "LSVM_pred = clf.predict(X_test)\n",
    "cm = confusion_matrix(y_test, LSVM_pred)\n",
    "\n",
    "conf_matrix=pd.DataFrame(data=cm,columns=['Predicted:0','Predicted:1'],index=['Actual:0','Actual:1'])\n",
    "plt.figure(figsize = (8,5))\n",
    "sns.heatmap(conf_matrix, annot=True,fmt='d',cmap=\"YlGnBu\")"
   ]
  },
  {
   "cell_type": "code",
   "execution_count": 102,
   "metadata": {},
   "outputs": [
    {
     "data": {
      "text/plain": [
       "86.09388839681134"
      ]
     },
     "execution_count": 102,
     "metadata": {},
     "output_type": "execute_result"
    }
   ],
   "source": [
    "#Accuracy\n",
    "accuracy_score(y_test,LSVM_pred)*100"
   ]
  },
  {
   "cell_type": "markdown",
   "metadata": {},
   "source": [
    "# Kernel SVM Linear"
   ]
  },
  {
   "cell_type": "code",
   "execution_count": 111,
   "metadata": {},
   "outputs": [],
   "source": [
    "#using Kernel SVM\n",
    "KernelSVCl = SVC(max_iter=10000)\n",
    "kernelSVCl_params = {'C':[0.001, 0.01, 0.1, 1],'gamma':[1000, 100,10, 1,0.1], 'kernel':['linear']}"
   ]
  },
  {
   "cell_type": "code",
   "execution_count": 112,
   "metadata": {},
   "outputs": [
    {
     "data": {
      "text/plain": [
       "GridSearchCV(cv=5, error_score=nan,\n",
       "             estimator=SVC(C=1.0, break_ties=False, cache_size=200,\n",
       "                           class_weight=None, coef0=0.0,\n",
       "                           decision_function_shape='ovr', degree=3,\n",
       "                           gamma='scale', kernel='rbf', max_iter=10000,\n",
       "                           probability=False, random_state=None, shrinking=True,\n",
       "                           tol=0.001, verbose=False),\n",
       "             iid='deprecated', n_jobs=None,\n",
       "             param_grid={'C': [0.001, 0.01, 0.1, 1],\n",
       "                         'gamma': [1000, 100, 10, 1, 0.1],\n",
       "                         'kernel': ['linear']},\n",
       "             pre_dispatch='2*n_jobs', refit=True, return_train_score=False,\n",
       "             scoring=None, verbose=0)"
      ]
     },
     "execution_count": 112,
     "metadata": {},
     "output_type": "execute_result"
    }
   ],
   "source": [
    "# Using Grid search to find the best parameters and fitting the model\n",
    "KernelSVCl_clf = GridSearchCV(KernelSVCl, kernelSVCl_params,cv=5)\n",
    "KernelSVCl_clf.fit(X_train,y_train)"
   ]
  },
  {
   "cell_type": "code",
   "execution_count": 113,
   "metadata": {},
   "outputs": [
    {
     "data": {
      "text/plain": [
       "{'C': 0.1, 'gamma': 1000, 'kernel': 'linear'}"
      ]
     },
     "execution_count": 113,
     "metadata": {},
     "output_type": "execute_result"
    }
   ],
   "source": [
    "#finding the best paramrter\n",
    "KernelSVCl_clf.best_params_"
   ]
  },
  {
   "cell_type": "code",
   "execution_count": 114,
   "metadata": {},
   "outputs": [
    {
     "data": {
      "text/plain": [
       "0.8656930704009547"
      ]
     },
     "execution_count": 114,
     "metadata": {},
     "output_type": "execute_result"
    }
   ],
   "source": [
    "#finding the best paramrter\n",
    "KernelSVCl_clf.best_score_"
   ]
  },
  {
   "cell_type": "code",
   "execution_count": 115,
   "metadata": {},
   "outputs": [
    {
     "name": "stdout",
     "output_type": "stream",
     "text": [
      "Accuracy of Kernelized SVM on training set: 0.87\n",
      "Accuracy of Kernelized SVM on test set: 0.8627\n"
     ]
    }
   ],
   "source": [
    "#finding thet train and test accuracy\n",
    "KernelSVCl_clf= SVC(kernel='linear', C= 0.1, gamma= 1000)\n",
    "KernelSVCl_clf.fit(X_train,y_train)\n",
    "KernelSVCl_clf.score(X_train,y_train)\n",
    "print('Accuracy of Kernelized SVM on training set: {:.2f}'\n",
    "     .format(KernelSVCl_clf.score(X_train, y_train)))\n",
    "print('Accuracy of Kernelized SVM on test set: {:.4f}'\n",
    "     .format(KernelSVCl_clf.score(X_test, y_test)))"
   ]
  },
  {
   "cell_type": "code",
   "execution_count": 137,
   "metadata": {},
   "outputs": [
    {
     "name": "stdout",
     "output_type": "stream",
     "text": [
      "Cross validation scores: [0.87264673 0.85160576 0.88691796 0.8691796  0.8481153 ]\n",
      "Average cross-validation score: 0.8657\n"
     ]
    }
   ],
   "source": [
    "#Cross Validation\n",
    "cvscore = cross_val_score(SVC(kernel='linear',C=0.1,gamma=1000),X_train,y_train, cv=5)\n",
    "print(\"Cross validation scores: {}\".format(cvscore))\n",
    "print(\"Average cross-validation score: {:.4f}\".format(cvscore.mean()))"
   ]
  },
  {
   "cell_type": "code",
   "execution_count": 138,
   "metadata": {},
   "outputs": [
    {
     "data": {
      "text/plain": [
       "<matplotlib.axes._subplots.AxesSubplot at 0x18c023ab588>"
      ]
     },
     "execution_count": 138,
     "metadata": {},
     "output_type": "execute_result"
    },
    {
     "data": {
      "image/png": "[encoded data removed]",
      "text/plain": [
       "<Figure size 576x360 with 2 Axes>"
      ]
     },
     "metadata": {
      "needs_background": "light"
     },
     "output_type": "display_data"
    }
   ],
   "source": [
    "#Making the Confusion Matrix\n",
    "KSVM_pred = KernelSVCl_clf.predict(X_test)\n",
    "cm = confusion_matrix(y_test, KSVM_pred)\n",
    "\n",
    "conf_matrix=pd.DataFrame(data=cm,columns=['Predicted:0','Predicted:1'],index=['Actual:0','Actual:1'])\n",
    "plt.figure(figsize = (8,5))\n",
    "sns.heatmap(conf_matrix, annot=True,fmt='d',cmap=\"YlGnBu\")"
   ]
  },
  {
   "cell_type": "code",
   "execution_count": 139,
   "metadata": {},
   "outputs": [
    {
     "data": {
      "text/plain": [
       "86.27103631532329"
      ]
     },
     "execution_count": 139,
     "metadata": {},
     "output_type": "execute_result"
    }
   ],
   "source": [
    "#Accuracy\n",
    "accuracy_score(y_test,KSVM_pred)*100"
   ]
  },
  {
   "cell_type": "markdown",
   "metadata": {},
   "source": [
    "# Kernel SVM rbf"
   ]
  },
  {
   "cell_type": "code",
   "execution_count": 109,
   "metadata": {},
   "outputs": [],
   "source": [
    "KernelSVCr = SVC(max_iter=10000)\n",
    "kernelSVCr_params = {'C':[ 1, 10, 100, 1000, 10000],'gamma':[10,1,0.1,0.01,0.001], 'kernel':['rbf']}"
   ]
  },
  {
   "cell_type": "code",
   "execution_count": 110,
   "metadata": {},
   "outputs": [
    {
     "data": {
      "text/plain": [
       "GridSearchCV(cv=5, error_score=nan,\n",
       "             estimator=SVC(C=1.0, break_ties=False, cache_size=200,\n",
       "                           class_weight=None, coef0=0.0,\n",
       "                           decision_function_shape='ovr', degree=3,\n",
       "                           gamma='scale', kernel='rbf', max_iter=10000,\n",
       "                           probability=False, random_state=None, shrinking=True,\n",
       "                           tol=0.001, verbose=False),\n",
       "             iid='deprecated', n_jobs=None,\n",
       "             param_grid={'C': [1, 10, 100, 1000, 10000],\n",
       "                         'gamma': [10, 1, 0.1, 0.01, 0.001],\n",
       "                         'kernel': ['rbf']},\n",
       "             pre_dispatch='2*n_jobs', refit=True, return_train_score=False,\n",
       "             scoring=None, verbose=0)"
      ]
     },
     "execution_count": 110,
     "metadata": {},
     "output_type": "execute_result"
    }
   ],
   "source": [
    "# Using Grid search to find the best parameters and fitting the model\n",
    "KernelSVCr_clf = GridSearchCV(KernelSVCr, kernelSVCr_params,cv=5)\n",
    "KernelSVCr_clf.fit(X_train,y_train)"
   ]
  },
  {
   "cell_type": "code",
   "execution_count": 119,
   "metadata": {},
   "outputs": [
    {
     "data": {
      "text/plain": [
       "{'C': 1000, 'gamma': 0.001, 'kernel': 'rbf'}"
      ]
     },
     "execution_count": 119,
     "metadata": {},
     "output_type": "execute_result"
    }
   ],
   "source": [
    "KernelSVCr_clf.best_params_"
   ]
  },
  {
   "cell_type": "code",
   "execution_count": 120,
   "metadata": {},
   "outputs": [
    {
     "name": "stdout",
     "output_type": "stream",
     "text": [
      "Accuracy of Kernelized SVM on training set: 0.9277\n",
      "Accuracy of Kernelized SVM on test set: 0.9291\n"
     ]
    }
   ],
   "source": [
    "kernelSVCr_clf= SVC(kernel='rbf', C= 1000, gamma= 0.001)\n",
    "kernelSVCr_clf.fit(X_train,y_train)\n",
    "kernelSVCr_clf.score(X_train,y_train)\n",
    "print('Accuracy of Kernelized SVM on training set: {:.4f}'\n",
    "     .format(kernelSVCr_clf.score(X_train, y_train)))\n",
    "print('Accuracy of Kernelized SVM on test set: {:.4f}'\n",
    "     .format(kernelSVCr_clf.score(X_test, y_test)))"
   ]
  },
  {
   "cell_type": "code",
   "execution_count": 140,
   "metadata": {},
   "outputs": [
    {
     "name": "stdout",
     "output_type": "stream",
     "text": [
      "Cross validation scores: [0.91915836 0.90808416 0.90909091 0.9135255  0.90465632]\n",
      "Average cross-validation score: 0.9109\n"
     ]
    }
   ],
   "source": [
    "#Cross Validation\n",
    "cvscore = cross_val_score(SVC(kernel='rbf',C=1000,gamma=0.001),X_train,y_train, cv=5)\n",
    "print(\"Cross validation scores: {}\".format(cvscore))\n",
    "print(\"Average cross-validation score: {:.4f}\".format(cvscore.mean()))"
   ]
  },
  {
   "cell_type": "code",
   "execution_count": 141,
   "metadata": {},
   "outputs": [
    {
     "data": {
      "text/plain": [
       "<matplotlib.axes._subplots.AxesSubplot at 0x18c02476708>"
      ]
     },
     "execution_count": 141,
     "metadata": {},
     "output_type": "execute_result"
    },
    {
     "data": {
      "image/png": "[encoded data removed]",
      "text/plain": [
       "<Figure size 576x360 with 2 Axes>"
      ]
     },
     "metadata": {
      "needs_background": "light"
     },
     "output_type": "display_data"
    }
   ],
   "source": [
    "Kernel_SVC_rbf_predicted = kernelSVCr_clf.predict(X_test)\n",
    "cm=confusion_matrix(y_test,Kernel_SVC_rbf_predicted)\n",
    "\n",
    "conf_matrix=pd.DataFrame(data=cm,columns=['Predicted:0','Predicted:1'],index=['Actual:0','Actual:1'])\n",
    "plt.figure(figsize = (8,5))\n",
    "sns.heatmap(conf_matrix, annot=True,fmt='d',cmap=\"YlGnBu\")"
   ]
  },
  {
   "cell_type": "markdown",
   "metadata": {},
   "source": [
    "# Kernel SVM (Poly)"
   ]
  },
  {
   "cell_type": "code",
   "execution_count": 123,
   "metadata": {},
   "outputs": [],
   "source": [
    "#using kernel SVM poly\n",
    "KernelSVC = SVC(max_iter=10000)\n",
    "kernelSVC_params = {'C':[0.01, 0.1, 1, 10, 100, 1000, 10000],'gamma':[0.001,0.01,0.1,1,10,100, 1000], 'kernel':['poly']}"
   ]
  },
  {
   "cell_type": "code",
   "execution_count": 124,
   "metadata": {},
   "outputs": [
    {
     "data": {
      "text/plain": [
       "GridSearchCV(cv=5, error_score=nan,\n",
       "             estimator=SVC(C=1.0, break_ties=False, cache_size=200,\n",
       "                           class_weight=None, coef0=0.0,\n",
       "                           decision_function_shape='ovr', degree=3,\n",
       "                           gamma='scale', kernel='rbf', max_iter=10000,\n",
       "                           probability=False, random_state=None, shrinking=True,\n",
       "                           tol=0.001, verbose=False),\n",
       "             iid='deprecated', n_jobs=None,\n",
       "             param_grid={'C': [0.01, 0.1, 1, 10, 100, 1000, 10000],\n",
       "                         'gamma': [0.001, 0.01, 0.1, 1, 10, 100, 1000],\n",
       "                         'kernel': ['poly']},\n",
       "             pre_dispatch='2*n_jobs', refit=True, return_train_score=False,\n",
       "             scoring=None, verbose=0)"
      ]
     },
     "execution_count": 124,
     "metadata": {},
     "output_type": "execute_result"
    }
   ],
   "source": [
    "# Using Grid search to find the best parameters and fitting the model\n",
    "KernelSVC_clf = GridSearchCV(KernelSVC, kernelSVC_params,cv=5)\n",
    "KernelSVC_clf.fit(X_train,y_train)"
   ]
  },
  {
   "cell_type": "code",
   "execution_count": 125,
   "metadata": {},
   "outputs": [
    {
     "data": {
      "text/plain": [
       "{'C': 0.1, 'gamma': 0.1, 'kernel': 'poly'}"
      ]
     },
     "execution_count": 125,
     "metadata": {},
     "output_type": "execute_result"
    }
   ],
   "source": [
    "#fiding the best parameter\n",
    "KernelSVC_clf.best_params_"
   ]
  },
  {
   "cell_type": "code",
   "execution_count": 126,
   "metadata": {},
   "outputs": [
    {
     "name": "stdout",
     "output_type": "stream",
     "text": [
      "Accuracy of Kernelized SVM on training set: 0.9375\n",
      "Accuracy of Kernelized SVM on test set: 0.8964\n"
     ]
    }
   ],
   "source": [
    "#accuracy on both training and test set\n",
    "kernel_clf= SVC(kernel='poly', C= 0.1, gamma= 0.1)\n",
    "kernel_clf.fit(X_train,y_train)\n",
    "kernel_clf.score(X_train,y_train)\n",
    "print('Accuracy of Kernelized SVM on training set: {:.4f}'\n",
    "     .format(kernel_clf.score(X_train, y_train)))\n",
    "print('Accuracy of Kernelized SVM on test set: {:.4f}'\n",
    "     .format(KernelSVC_clf.score(X_test, y_test)))"
   ]
  },
  {
   "cell_type": "code",
   "execution_count": 142,
   "metadata": {},
   "outputs": [
    {
     "name": "stdout",
     "output_type": "stream",
     "text": [
      "Cross validation scores: [0.87264673 0.85160576 0.88691796 0.8691796  0.8481153 ]\n",
      "Average cross-validation score: 0.8657\n"
     ]
    }
   ],
   "source": [
    "#Cross Validation\n",
    "cvscore = cross_val_score(SVC(kernel='linear',C=0.1,gamma=0.1),X_train,y_train, cv=5)\n",
    "print(\"Cross validation scores: {}\".format(cvscore))\n",
    "print(\"Average cross-validation score: {:.4f}\".format(cvscore.mean()))"
   ]
  },
  {
   "cell_type": "code",
   "execution_count": 143,
   "metadata": {},
   "outputs": [
    {
     "data": {
      "text/plain": [
       "<matplotlib.axes._subplots.AxesSubplot at 0x18c027d6608>"
      ]
     },
     "execution_count": 143,
     "metadata": {},
     "output_type": "execute_result"
    },
    {
     "data": {
      "image/png": "[encoded data removed]",
      "text/plain": [
       "<Figure size 576x360 with 2 Axes>"
      ]
     },
     "metadata": {
      "needs_background": "light"
     },
     "output_type": "display_data"
    }
   ],
   "source": [
    "#Making the Confusion Matrix\n",
    "KPSVM_pred = kernel_clf.predict(X_test)\n",
    "cm = confusion_matrix(y_test, KPSVM_pred)\n",
    "\n",
    "conf_matrix=pd.DataFrame(data=cm,columns=['Predicted:0','Predicted:1'],index=['Actual:0','Actual:1'])\n",
    "plt.figure(figsize = (8,5))\n",
    "sns.heatmap(conf_matrix, annot=True,fmt='d',cmap=\"YlGnBu\")"
   ]
  },
  {
   "cell_type": "code",
   "execution_count": 144,
   "metadata": {},
   "outputs": [
    {
     "data": {
      "text/plain": [
       "89.63684676705049"
      ]
     },
     "execution_count": 144,
     "metadata": {},
     "output_type": "execute_result"
    }
   ],
   "source": [
    "#Accuracy\n",
    "accuracy_score(y_test,KPSVM_pred)*100  "
   ]
  },
  {
   "cell_type": "markdown",
   "metadata": {},
   "source": [
    "Appending all the values to a grid shaped box as shown below"
   ]
  },
  {
   "cell_type": "code",
   "execution_count": 145,
   "metadata": {},
   "outputs": [],
   "source": [
    "models_class=[]\n",
    "\n",
    "models_class.append({'Model Name' : 'K Nearest Neighbors','Train score': round(KNN_best.score(X_train, y_train),2),\n",
    "               'Test score': round(KNN_best.score(X_test, y_test),2), 'Accuracy Score' : accuracy_score(y_test,KNN_predicted)})\n",
    "\n",
    "models_class.append({'Model Name' : 'Logistic Regression','Train score': round(LR.score(X_train, y_train),2),\n",
    "               'Test score': round(LR.score(X_test, y_test),2), 'Accuracy Score' : accuracy_score(y_test,LR_pred)})\n",
    "\n",
    "models_class.append({'Model Name' : 'Decision Tree','Train score': round(dt_clf_best.score(X_train, y_train),2),\n",
    "               'Test score': round(dt_clf_best.score(X_test, y_test),2), 'Accuracy Score' : accuracy_score(y_test,dt_predicted)})\n",
    "\n",
    "models_class.append({'Model Name' : 'Linear SVM','Train score': round(clf.score(X_train, y_train),2),\n",
    "                     'Test score': round(clf.score(X_test, y_test),2), 'Accuracy Score' : accuracy_score(y_test,LSVM_pred)})\n",
    "\n",
    "models_class.append({'Model Name' : 'Kernel SVM (Linear)','Train score': round(KernelSVCl_clf.score(X_train, y_train),2),\n",
    "                     'Test score': round(KernelSVCl_clf.score(X_test, y_test),2), 'Accuracy Score' : accuracy_score(y_test,KSVM_pred)})\n",
    "\n",
    "models_class.append({'Model Name' : 'Kernel SVM (RBF)','Train score': round(KernelSVCr_clf.score(X_train, y_train),2),\n",
    "                     'Test score': round(KernelSVCr_clf.score(X_test, y_test),2), 'Accuracy Score' : accuracy_score(y_test,Kernel_SVC_rbf_predicted)})\n",
    "\n",
    "models_class.append({'Model Name' : 'Kernel SVM (Poly)','Train score': round(kernel_clf.score(X_train, y_train),2),\n",
    "                     'Test score': round(kernel_clf.score(X_test, y_test),2), 'Accuracy Score' : accuracy_score(y_test,KPSVM_pred)})"
   ]
  },
  {
   "cell_type": "code",
   "execution_count": 146,
   "metadata": {},
   "outputs": [
    {
     "data": {
      "text/html": [
       "<div>\n",
       "<style scoped>\n",
       "    .dataframe tbody tr th:only-of-type {\n",
       "        vertical-align: middle;\n",
       "    }\n",
       "\n",
       "    .dataframe tbody tr th {\n",
       "        vertical-align: top;\n",
       "    }\n",
       "\n",
       "    .dataframe thead th {\n",
       "        text-align: right;\n",
       "    }\n",
       "</style>\n",
       "<table border=\"1\" class=\"dataframe\">\n",
       "  <thead>\n",
       "    <tr style=\"text-align: right;\">\n",
       "      <th></th>\n",
       "      <th>Train score</th>\n",
       "      <th>Test score</th>\n",
       "      <th>Accuracy Score</th>\n",
       "    </tr>\n",
       "    <tr>\n",
       "      <th>Model Name</th>\n",
       "      <th></th>\n",
       "      <th></th>\n",
       "      <th></th>\n",
       "    </tr>\n",
       "  </thead>\n",
       "  <tbody>\n",
       "    <tr>\n",
       "      <td>K Nearest Neighbors</td>\n",
       "      <td>0.91</td>\n",
       "      <td>0.90</td>\n",
       "      <td>0.896368</td>\n",
       "    </tr>\n",
       "    <tr>\n",
       "      <td>Logistic Regression</td>\n",
       "      <td>0.86</td>\n",
       "      <td>0.86</td>\n",
       "      <td>0.862710</td>\n",
       "    </tr>\n",
       "    <tr>\n",
       "      <td>Decision Tree</td>\n",
       "      <td>0.93</td>\n",
       "      <td>0.90</td>\n",
       "      <td>0.903454</td>\n",
       "    </tr>\n",
       "    <tr>\n",
       "      <td>Linear SVM</td>\n",
       "      <td>0.87</td>\n",
       "      <td>0.86</td>\n",
       "      <td>0.860939</td>\n",
       "    </tr>\n",
       "    <tr>\n",
       "      <td>Kernel SVM (Linear)</td>\n",
       "      <td>0.87</td>\n",
       "      <td>0.86</td>\n",
       "      <td>0.862710</td>\n",
       "    </tr>\n",
       "    <tr>\n",
       "      <td>Kernel SVM (RBF)</td>\n",
       "      <td>0.93</td>\n",
       "      <td>0.92</td>\n",
       "      <td>0.929141</td>\n",
       "    </tr>\n",
       "    <tr>\n",
       "      <td>Kernel SVM (Poly)</td>\n",
       "      <td>0.94</td>\n",
       "      <td>0.90</td>\n",
       "      <td>0.896368</td>\n",
       "    </tr>\n",
       "  </tbody>\n",
       "</table>\n",
       "</div>"
      ],
      "text/plain": [
       "                     Train score  Test score  Accuracy Score\n",
       "Model Name                                                  \n",
       "K Nearest Neighbors         0.91        0.90        0.896368\n",
       "Logistic Regression         0.86        0.86        0.862710\n",
       "Decision Tree               0.93        0.90        0.903454\n",
       "Linear SVM                  0.87        0.86        0.860939\n",
       "Kernel SVM (Linear)         0.87        0.86        0.862710\n",
       "Kernel SVM (RBF)            0.93        0.92        0.929141\n",
       "Kernel SVM (Poly)           0.94        0.90        0.896368"
      ]
     },
     "execution_count": 146,
     "metadata": {},
     "output_type": "execute_result"
    }
   ],
   "source": [
    "model_class = pd.DataFrame(models_class)\n",
    "model_class.set_index('Model Name', inplace = True)\n",
    "model_class"
   ]
  },
  {
   "cell_type": "code",
   "execution_count": 147,
   "metadata": {},
   "outputs": [
    {
     "data": {
      "text/plain": [
       "<matplotlib.legend.Legend at 0x18c028d4bc8>"
      ]
     },
     "execution_count": 147,
     "metadata": {},
     "output_type": "execute_result"
    },
    {
     "data": {
      "image/png": "[encoded data removed]",
      "text/plain": [
       "<Figure size 1152x432 with 1 Axes>"
      ]
     },
     "metadata": {
      "needs_background": "light"
     },
     "output_type": "display_data"
    }
   ],
   "source": [
    "plt.figure(figsize=(16,6))\n",
    "\n",
    "plt.bar(model_class.index, model_class['Accuracy Score'], label=\"Accuracy Score\")\n",
    "\n",
    "plt.xticks(model_class.index, rotation = 45)\n",
    "\n",
    "plt.ylabel(\"Accuracy\")\n",
    "plt.xlabel(\"Model\")\n",
    "plt.title(\"Accuracy for different models\")\n",
    "plt.legend()"
   ]
  },
  {
   "cell_type": "markdown",
   "metadata": {},
   "source": [
    "# From the accuracies populated above we can say that Kernel SVM RBF is the best Classifier with accuracy score of 92.91%"
   ]
  },
  {
   "cell_type": "code",
   "execution_count": 148,
   "metadata": {},
   "outputs": [],
   "source": [
    "#predicting the values for the best model\n",
    "y_pred = KernelSVCr_clf.predict(X_test)"
   ]
  },
  {
   "cell_type": "code",
   "execution_count": null,
   "metadata": {},
   "outputs": [],
   "source": []
  }
 ],
 "metadata": {
  "kernelspec": {
   "display_name": "Python 3",
   "language": "python",
   "name": "python3"
  },
  "language_info": {
   "codemirror_mode": {
    "name": "ipython",
    "version": 3
   },
   "file_extension": ".py",
   "mimetype": "text/x-python",
   "name": "python",
   "nbconvert_exporter": "python",
   "pygments_lexer": "ipython3",
   "version": "3.7.3"
  }
 },
 "nbformat": 4,
 "nbformat_minor": 2
}
